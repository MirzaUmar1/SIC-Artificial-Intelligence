{
  "nbformat": 4,
  "nbformat_minor": 0,
  "metadata": {
    "colab": {
      "provenance": [],
      "authorship_tag": "ABX9TyMA9dDpzFkVW4Q4pkC9vqNU",
      "include_colab_link": true
    },
    "kernelspec": {
      "name": "python3",
      "display_name": "Python 3"
    },
    "language_info": {
      "name": "python"
    }
  },
  "cells": [
    {
      "cell_type": "markdown",
      "metadata": {
        "id": "view-in-github",
        "colab_type": "text"
      },
      "source": [
        "<a href=\"https://colab.research.google.com/github/MirzaUmar1/SIC-Artificial-Intelligence/blob/main/Assignments/Assignment02.ipynb\" target=\"_parent\"><img src=\"https://colab.research.google.com/assets/colab-badge.svg\" alt=\"Open In Colab\"/></a>"
      ]
    },
    {
      "cell_type": "markdown",
      "source": [
        "# **Assignment 2**"
      ],
      "metadata": {
        "id": "aNItlIEJxKpi"
      }
    },
    {
      "cell_type": "markdown",
      "source": [
        "## **Part 1: Basic Python**"
      ],
      "metadata": {
        "id": "gjBcPR2OxSzW"
      }
    },
    {
      "cell_type": "markdown",
      "source": [
        "### **1. Variables and Data Types**"
      ],
      "metadata": {
        "id": "cRmJDSJWxdoa"
      }
    },
    {
      "cell_type": "markdown",
      "source": [
        "*   Define two variables a and b, and assign them any integer values.\n",
        "*   Print the sum, difference, product, and division of a and b.\n",
        "*   Check and print the data types of a and b.\n",
        "\n",
        "\n",
        "\n"
      ],
      "metadata": {
        "id": "NrGuThZBxpGW"
      }
    },
    {
      "cell_type": "code",
      "execution_count": 1,
      "metadata": {
        "id": "j-2tQr72u_X5",
        "colab": {
          "base_uri": "https://localhost:8080/"
        },
        "outputId": "1fddca5c-fe5c-494b-a933-1b4230f3d529"
      },
      "outputs": [
        {
          "output_type": "stream",
          "name": "stdout",
          "text": [
            "Sum: 15\n",
            "Difference: 5\n",
            "Product: 50\n",
            "Division: 2.0\n",
            "Data Type of a: <class 'int'>\n",
            "Data Type of b: <class 'int'>\n"
          ]
        }
      ],
      "source": [
        "a = 10\n",
        "b = 5\n",
        "\n",
        "print(\"Sum:\", a + b)\n",
        "print(\"Difference:\", a - b)\n",
        "print(\"Product:\", a * b)\n",
        "print(\"Division:\", a / b)\n",
        "print(\"Data Type of a:\", type(a))\n",
        "print(\"Data Type of b:\", type(b))"
      ]
    },
    {
      "cell_type": "markdown",
      "source": [
        "### **2. Type Casting**"
      ],
      "metadata": {
        "id": "x4qr0w4KyiS7"
      }
    },
    {
      "cell_type": "markdown",
      "source": [
        "*   Create a variable x as a float and convert it to an integer.\n",
        "*   Convert a string representing a number to a float.\n",
        "*   Print the results.\n",
        "\n"
      ],
      "metadata": {
        "id": "5CEGYQfMyqQJ"
      }
    },
    {
      "cell_type": "code",
      "source": [
        "x = float(3.94)\n",
        "print(\"Data Type of x:\", type(x))\n",
        "x_flt = int(x)\n",
        "print(\"Integer:\", x_flt)\n",
        "print(\"Data Type of x_flt:\", type(x_flt))\n",
        "\n",
        "y = \"4\"\n",
        "y_flt = float(y)\n",
        "print(\"String:\", y)\n",
        "print(\"Data Type of y:\", type(y))\n",
        "print(\"Float:\", y_flt)\n",
        "print(\"Data Type of y_flt:\", type(y_flt))"
      ],
      "metadata": {
        "colab": {
          "base_uri": "https://localhost:8080/"
        },
        "id": "uoES9hA7yfTX",
        "outputId": "aa707956-7558-4a18-8f06-6ec25f517361"
      },
      "execution_count": 14,
      "outputs": [
        {
          "output_type": "stream",
          "name": "stdout",
          "text": [
            "Data Type of x: <class 'float'>\n",
            "Integer: 3\n",
            "Data Type of x_flt: <class 'int'>\n",
            "String: 4\n",
            "Data Type of y: <class 'str'>\n",
            "Float: 4.0\n",
            "Data Type of y_flt: <class 'float'>\n"
          ]
        }
      ]
    },
    {
      "cell_type": "markdown",
      "source": [
        "## **Part 2: Control Flow**"
      ],
      "metadata": {
        "id": "ytmVzJFh03Y3"
      }
    },
    {
      "cell_type": "markdown",
      "source": [
        "### **3. For Loop and If-Else**"
      ],
      "metadata": {
        "id": "jqfgZ_3y0_PL"
      }
    },
    {
      "cell_type": "markdown",
      "source": [
        "*   Write a Python program that prints all even numbers between 1 and 20 using a for loop.\n",
        "*   Use an if-else statement inside the loop to print whether the number is odd or even.\n",
        "\n"
      ],
      "metadata": {
        "id": "dS53ulho1H4D"
      }
    },
    {
      "cell_type": "code",
      "source": [
        "print('Even Numbers')\n",
        "for i in range(1,21):\n",
        "  if i % 2 == 0:\n",
        "    print(i)"
      ],
      "metadata": {
        "colab": {
          "base_uri": "https://localhost:8080/"
        },
        "id": "IMyQcJ5izImf",
        "outputId": "a08c8ebf-6d0b-4c75-c88e-15a464b88a91"
      },
      "execution_count": 25,
      "outputs": [
        {
          "output_type": "stream",
          "name": "stdout",
          "text": [
            "Even Numbers\n",
            "2\n",
            "4\n",
            "6\n",
            "8\n",
            "10\n",
            "12\n",
            "14\n",
            "16\n",
            "18\n",
            "20\n"
          ]
        }
      ]
    },
    {
      "cell_type": "code",
      "source": [
        "for i in range(1,21):\n",
        "  if i % 2 == 0:\n",
        "    print(i, 'is even')\n",
        "  else:\n",
        "    print(i, 'is odd')"
      ],
      "metadata": {
        "colab": {
          "base_uri": "https://localhost:8080/"
        },
        "id": "QKtwz6QM1qdQ",
        "outputId": "2b1112ac-8cfc-48db-c13d-4e5c2a8c208b"
      },
      "execution_count": 26,
      "outputs": [
        {
          "output_type": "stream",
          "name": "stdout",
          "text": [
            "1 is odd\n",
            "2 is even\n",
            "3 is odd\n",
            "4 is even\n",
            "5 is odd\n",
            "6 is even\n",
            "7 is odd\n",
            "8 is even\n",
            "9 is odd\n",
            "10 is even\n",
            "11 is odd\n",
            "12 is even\n",
            "13 is odd\n",
            "14 is even\n",
            "15 is odd\n",
            "16 is even\n",
            "17 is odd\n",
            "18 is even\n",
            "19 is odd\n",
            "20 is even\n"
          ]
        }
      ]
    },
    {
      "cell_type": "markdown",
      "source": [
        "### **4. List Manipulation**"
      ],
      "metadata": {
        "id": "H_oVxblv3TEr"
      }
    },
    {
      "cell_type": "markdown",
      "source": [
        "*   Create a list of numbers from 1 to 10.\n",
        "*   Using a loop, calculate and print the sum of the elements in the list.\n",
        "*   Append two new numbers to the list and display the updated list.\n",
        "*   Remove the first element and print the list.\n",
        "\n"
      ],
      "metadata": {
        "id": "rXrwB4eJ3a_B"
      }
    },
    {
      "cell_type": "code",
      "source": [
        "numbers = list(range(1,11))\n",
        "print(numbers)"
      ],
      "metadata": {
        "colab": {
          "base_uri": "https://localhost:8080/"
        },
        "id": "5iekxmg32-pY",
        "outputId": "caf56400-7e48-4ded-d583-7ac68910c8aa"
      },
      "execution_count": 31,
      "outputs": [
        {
          "output_type": "stream",
          "name": "stdout",
          "text": [
            "[1, 2, 3, 4, 5, 6, 7, 8, 9, 10]\n"
          ]
        }
      ]
    },
    {
      "cell_type": "code",
      "source": [
        "sum = 0\n",
        "for i in numbers:\n",
        "  sum += i\n",
        "print(sum)"
      ],
      "metadata": {
        "colab": {
          "base_uri": "https://localhost:8080/"
        },
        "id": "_W1Xt9G133hY",
        "outputId": "a1d50b45-a823-4ac1-cb3c-9ae9334cd18b"
      },
      "execution_count": 32,
      "outputs": [
        {
          "output_type": "stream",
          "name": "stdout",
          "text": [
            "55\n"
          ]
        }
      ]
    },
    {
      "cell_type": "code",
      "source": [
        "numbers.append(11)\n",
        "numbers.append(12)\n",
        "print(numbers)"
      ],
      "metadata": {
        "colab": {
          "base_uri": "https://localhost:8080/"
        },
        "id": "bOOp9WRy3_ei",
        "outputId": "c9198dcf-9dba-4438-c725-dc5acf87c2da"
      },
      "execution_count": 33,
      "outputs": [
        {
          "output_type": "stream",
          "name": "stdout",
          "text": [
            "[1, 2, 3, 4, 5, 6, 7, 8, 9, 10, 11, 12]\n"
          ]
        }
      ]
    },
    {
      "cell_type": "code",
      "source": [
        "del numbers[0]\n",
        "print(numbers)"
      ],
      "metadata": {
        "colab": {
          "base_uri": "https://localhost:8080/"
        },
        "id": "ayIaTxZh4rC_",
        "outputId": "c95bde7b-b989-4b52-f2fd-b76aee328bda"
      },
      "execution_count": 34,
      "outputs": [
        {
          "output_type": "stream",
          "name": "stdout",
          "text": [
            "[2, 3, 4, 5, 6, 7, 8, 9, 10, 11, 12]\n"
          ]
        }
      ]
    },
    {
      "cell_type": "markdown",
      "source": [
        "## **Part 3: Dictionary Operations**"
      ],
      "metadata": {
        "id": "YzSyAObA4_qB"
      }
    },
    {
      "cell_type": "markdown",
      "source": [
        "### **5. Dictionaries**"
      ],
      "metadata": {
        "id": "PwSrDkuA5jci"
      }
    },
    {
      "cell_type": "markdown",
      "source": [
        "\n",
        "*   Create a dictionary to store the names of three students as keys and their ages as\n",
        "values.\n",
        "\n",
        "*   Print the age of the second student.\n",
        "*   Add a new student to the dictionary and print the updated dictionary.\n",
        "\n"
      ],
      "metadata": {
        "id": "F76K1pRv5HjX"
      }
    },
    {
      "cell_type": "code",
      "source": [
        "data = {'John':18, 'Jane':19, 'Jack':20}\n",
        "print(data)"
      ],
      "metadata": {
        "colab": {
          "base_uri": "https://localhost:8080/"
        },
        "id": "HZJzdN_L4we9",
        "outputId": "61de70d7-c35f-4a5a-c88f-94efd62b1ee3"
      },
      "execution_count": 35,
      "outputs": [
        {
          "output_type": "stream",
          "name": "stdout",
          "text": [
            "{'John': 18, 'Jane': 19, 'Jack': 20}\n"
          ]
        }
      ]
    },
    {
      "cell_type": "code",
      "source": [
        "data['Jane']"
      ],
      "metadata": {
        "colab": {
          "base_uri": "https://localhost:8080/"
        },
        "id": "C5XKfRy_Bh77",
        "outputId": "99f3e552-78be-4ac0-eb67-3c683d1698c3"
      },
      "execution_count": 36,
      "outputs": [
        {
          "output_type": "execute_result",
          "data": {
            "text/plain": [
              "19"
            ]
          },
          "metadata": {},
          "execution_count": 36
        }
      ]
    },
    {
      "cell_type": "code",
      "source": [
        "data.update({'James':21})\n",
        "print(data)"
      ],
      "metadata": {
        "colab": {
          "base_uri": "https://localhost:8080/"
        },
        "id": "c8xSKDXsBmQm",
        "outputId": "ec22f505-5327-44e8-80e5-9d6ee88c2329"
      },
      "execution_count": 38,
      "outputs": [
        {
          "output_type": "stream",
          "name": "stdout",
          "text": [
            "{'John': 18, 'Jane': 19, 'Jack': 20, 'James': 21}\n"
          ]
        }
      ]
    },
    {
      "cell_type": "markdown",
      "source": [
        "## **Part 4: NumPy Array Manipulation**"
      ],
      "metadata": {
        "id": "L5HEPak_DkIa"
      }
    },
    {
      "cell_type": "markdown",
      "source": [
        "### **6. Numpy Arrays**"
      ],
      "metadata": {
        "id": "yFUZpTSmDwR4"
      }
    },
    {
      "cell_type": "markdown",
      "source": [
        "\n",
        "*   Create a NumPy array of numbers from 1 to 15.\n",
        "*   Reshape the array into a 3x5 matrix and print it.\n",
        "*   Slice the matrix to extract the first two rows and print them.\n",
        "\n",
        "\n"
      ],
      "metadata": {
        "id": "6RNWhSrqD3TD"
      }
    },
    {
      "cell_type": "code",
      "source": [
        "import numpy as np\n",
        "import matplotlib.pyplot as plt"
      ],
      "metadata": {
        "id": "jbxI_sSREEwn"
      },
      "execution_count": 39,
      "outputs": []
    },
    {
      "cell_type": "code",
      "source": [
        "arr = np.array(range(1,16))\n",
        "print(arr)"
      ],
      "metadata": {
        "colab": {
          "base_uri": "https://localhost:8080/"
        },
        "id": "jytKCtr5ENAW",
        "outputId": "dd438a4a-8c33-41da-d3c8-173f2190839b"
      },
      "execution_count": 41,
      "outputs": [
        {
          "output_type": "stream",
          "name": "stdout",
          "text": [
            "[ 1  2  3  4  5  6  7  8  9 10 11 12 13 14 15]\n"
          ]
        }
      ]
    },
    {
      "cell_type": "code",
      "source": [
        "matrix = arr.reshape(3,5)\n",
        "matrix"
      ],
      "metadata": {
        "colab": {
          "base_uri": "https://localhost:8080/"
        },
        "id": "qSGW3E3bETmQ",
        "outputId": "fd0ed3a0-113f-4e9e-97c7-73579e8b6e7a"
      },
      "execution_count": 42,
      "outputs": [
        {
          "output_type": "execute_result",
          "data": {
            "text/plain": [
              "array([[ 1,  2,  3,  4,  5],\n",
              "       [ 6,  7,  8,  9, 10],\n",
              "       [11, 12, 13, 14, 15]])"
            ]
          },
          "metadata": {},
          "execution_count": 42
        }
      ]
    },
    {
      "cell_type": "code",
      "source": [
        "matrix[:2,:]"
      ],
      "metadata": {
        "colab": {
          "base_uri": "https://localhost:8080/"
        },
        "id": "CFy4tSt0EwgW",
        "outputId": "8e328057-ff45-4de6-f2d5-c3518f5fafcb"
      },
      "execution_count": 43,
      "outputs": [
        {
          "output_type": "execute_result",
          "data": {
            "text/plain": [
              "array([[ 1,  2,  3,  4,  5],\n",
              "       [ 6,  7,  8,  9, 10]])"
            ]
          },
          "metadata": {},
          "execution_count": 43
        }
      ]
    },
    {
      "cell_type": "markdown",
      "source": [
        "### **7. Array Sorting and Indexing**"
      ],
      "metadata": {
        "id": "CTIHfwG-Ftxs"
      }
    },
    {
      "cell_type": "markdown",
      "source": [
        "*   Create an unsorted array of random integers between 1 and 100.\n",
        "*   Sort the array in ascending order.\n",
        "*   Find and print the index of the maximum element.\n",
        "\n"
      ],
      "metadata": {
        "id": "T5pRnQcuGBkE"
      }
    },
    {
      "cell_type": "code",
      "source": [
        "num = np.random.randint(1,100,10)\n",
        "num"
      ],
      "metadata": {
        "colab": {
          "base_uri": "https://localhost:8080/"
        },
        "id": "-fkQRfzvFIuE",
        "outputId": "133fe6e1-ffde-4469-fdba-67f24a0a51d7"
      },
      "execution_count": 45,
      "outputs": [
        {
          "output_type": "execute_result",
          "data": {
            "text/plain": [
              "array([77, 35, 48,  1, 30, 46,  5, 96, 20, 57])"
            ]
          },
          "metadata": {},
          "execution_count": 45
        }
      ]
    },
    {
      "cell_type": "code",
      "source": [
        "num.sort()\n",
        "num"
      ],
      "metadata": {
        "colab": {
          "base_uri": "https://localhost:8080/"
        },
        "id": "aRBlzoUkGatd",
        "outputId": "298fae26-cfad-4d9e-c716-9a697c1de317"
      },
      "execution_count": 46,
      "outputs": [
        {
          "output_type": "execute_result",
          "data": {
            "text/plain": [
              "array([ 1,  5, 20, 30, 35, 46, 48, 57, 77, 96])"
            ]
          },
          "metadata": {},
          "execution_count": 46
        }
      ]
    },
    {
      "cell_type": "code",
      "source": [
        "num.argmax()"
      ],
      "metadata": {
        "colab": {
          "base_uri": "https://localhost:8080/"
        },
        "id": "SofEVQvbGksu",
        "outputId": "04de01ee-ca26-491e-8487-912c4ae8e674"
      },
      "execution_count": 49,
      "outputs": [
        {
          "output_type": "execute_result",
          "data": {
            "text/plain": [
              "9"
            ]
          },
          "metadata": {},
          "execution_count": 49
        }
      ]
    },
    {
      "cell_type": "markdown",
      "source": [
        "## **Part 5: Data Visualization with Matplotlib**"
      ],
      "metadata": {
        "id": "CQeD381JG-yP"
      }
    },
    {
      "cell_type": "markdown",
      "source": [
        "### **8. Line Graph**"
      ],
      "metadata": {
        "id": "mFv3WrYTHIDl"
      }
    },
    {
      "cell_type": "markdown",
      "source": [
        "*   Generate x-values from 0 to 10, and y-values as the square of x.\n",
        "*   Plot a line graph of x vs y with labels for the x-axis and y-axis and a title for the graph.\n",
        "\n"
      ],
      "metadata": {
        "id": "66_Fwdn-HL_Y"
      }
    },
    {
      "cell_type": "code",
      "source": [
        "x = np.arange(0,11)\n",
        "y = x**2\n",
        "\n",
        "plt.plot(x,y)\n",
        "plt.xlabel('x')\n",
        "plt.ylabel('y')\n",
        "plt.title('Graph for y = x^2')"
      ],
      "metadata": {
        "colab": {
          "base_uri": "https://localhost:8080/",
          "height": 490
        },
        "id": "CVJE8odiGsCp",
        "outputId": "15cf8b39-719a-417a-be01-b6de87154e58"
      },
      "execution_count": 52,
      "outputs": [
        {
          "output_type": "execute_result",
          "data": {
            "text/plain": [
              "Text(0.5, 1.0, 'Graph for y = x^2')"
            ]
          },
          "metadata": {},
          "execution_count": 52
        },
        {
          "output_type": "display_data",
          "data": {
            "text/plain": [
              "<Figure size 640x480 with 1 Axes>"
            ],
            "image/png": "[encoded data removed]"
          },
          "metadata": {}
        }
      ]
    },
    {
      "cell_type": "markdown",
      "source": [
        "### **9. Bar Chart**"
      ],
      "metadata": {
        "id": "Gue_3QzjIJRI"
      }
    },
    {
      "cell_type": "markdown",
      "source": [
        "*   Create a list of five categories (e.g., \"A\", \"B\", \"C\", \"D\", \"E\") and their respective\n",
        "values.\n",
        "*   Plot a bar chart using Matplotlib to represent these categories.\n",
        "\n"
      ],
      "metadata": {
        "id": "1P9k4A04IOHw"
      }
    },
    {
      "cell_type": "code",
      "source": [
        "catagories = ['A', 'B', 'C', 'D', 'E']\n",
        "values = [10, 20, 30, 40, 50]\n",
        "\n",
        "plt.bar(catagories, values)"
      ],
      "metadata": {
        "colab": {
          "base_uri": "https://localhost:8080/",
          "height": 448
        },
        "id": "Ja1jh_iTHv0U",
        "outputId": "abbdb9c5-91a6-4db7-e466-7ac6c5f14046"
      },
      "execution_count": 53,
      "outputs": [
        {
          "output_type": "execute_result",
          "data": {
            "text/plain": [
              "<BarContainer object of 5 artists>"
            ]
          },
          "metadata": {},
          "execution_count": 53
        },
        {
          "output_type": "display_data",
          "data": {
            "text/plain": [
              "<Figure size 640x480 with 1 Axes>"
            ],
            "image/png": "[encoded data removed]"
          },
          "metadata": {}
        }
      ]
    },
    {
      "cell_type": "markdown",
      "source": [
        "### **10. Histogram**"
      ],
      "metadata": {
        "id": "WuNx6D_0IoaD"
      }
    },
    {
      "cell_type": "markdown",
      "source": [
        "*   Create a list of random numbers between 0 and 50.\n",
        "*   Plot a histogram of these numbers.\n",
        "\n"
      ],
      "metadata": {
        "id": "lh19P0xUIta0"
      }
    },
    {
      "cell_type": "code",
      "source": [
        "nums = np.random.randint(0,50,100)\n",
        "nums"
      ],
      "metadata": {
        "colab": {
          "base_uri": "https://localhost:8080/"
        },
        "id": "nL6AyyrhIj0E",
        "outputId": "74bd4afc-e1e1-4384-fbc7-18980a464c50"
      },
      "execution_count": 55,
      "outputs": [
        {
          "output_type": "execute_result",
          "data": {
            "text/plain": [
              "array([17,  4, 30,  9, 21, 41, 40, 40, 41, 20, 47, 36, 10, 24, 31, 47,  7,\n",
              "       12,  9, 32, 16, 38, 45,  5, 40, 25,  1, 23, 27, 38,  8, 34, 28, 45,\n",
              "       42, 30,  9, 17,  6, 37, 44, 29,  4, 38, 25, 41, 48,  2, 25, 41, 38,\n",
              "       36, 24, 38, 11, 21, 19, 47, 13, 10, 10, 25, 33, 47, 49,  4, 20,  4,\n",
              "       27,  6, 27, 47, 11, 28, 10, 37, 10, 44,  8, 44, 38, 46, 25, 45, 46,\n",
              "       16,  7, 49,  1,  1,  3, 31,  1, 20,  9,  3, 26, 41, 46,  9])"
            ]
          },
          "metadata": {},
          "execution_count": 55
        }
      ]
    },
    {
      "cell_type": "code",
      "source": [
        "hist = plt.hist(nums)"
      ],
      "metadata": {
        "colab": {
          "base_uri": "https://localhost:8080/",
          "height": 430
        },
        "id": "Lw6IlLcYI8at",
        "outputId": "544fa879-3e88-418b-b212-505d271668cd"
      },
      "execution_count": 56,
      "outputs": [
        {
          "output_type": "display_data",
          "data": {
            "text/plain": [
              "<Figure size 640x480 with 1 Axes>"
            ],
            "image/png": "[encoded data removed]"
          },
          "metadata": {}
        }
      ]
    },
    {
      "cell_type": "code",
      "source": [],
      "metadata": {
        "id": "LCsmoPyVJDtA"
      },
      "execution_count": null,
      "outputs": []
    }
  ]
}