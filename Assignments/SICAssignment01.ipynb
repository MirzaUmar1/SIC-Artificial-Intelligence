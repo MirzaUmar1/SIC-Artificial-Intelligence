{
  "nbformat": 4,
  "nbformat_minor": 0,
  "metadata": {
    "colab": {
      "provenance": [],
      "authorship_tag": "ABX9TyNI5W1Sg04WQ3zsZ+zwSljO",
      "include_colab_link": true
    },
    "kernelspec": {
      "name": "python3",
      "display_name": "Python 3"
    },
    "language_info": {
      "name": "python"
    }
  },
  "cells": [
    {
      "cell_type": "markdown",
      "metadata": {
        "id": "view-in-github",
        "colab_type": "text"
      },
      "source": [
        "<a href=\"https://colab.research.google.com/github/MirzaUmar1/SIC-Artificial-Intelligence/blob/main/Assignments/SICAssignment01.ipynb\" target=\"_parent\"><img src=\"https://colab.research.google.com/assets/colab-badge.svg\" alt=\"Open In Colab\"/></a>"
      ]
    },
    {
      "cell_type": "markdown",
      "source": [
        "**Task 2: Data type manipulations**\n",
        "\n",
        "Write a function nested_list_flatten that takes a list containing both integers and lists of\n",
        "integers (nested at arbitrary depths) and flattens it into a single list.\n",
        "You cannot use any built-in Python flattening functions or methods.\n",
        "You must implement this recursively.\n",
        "Ensure your solution handles deeply nested lists efficiently."
      ],
      "metadata": {
        "id": "-A0kd9y0Mzr_"
      }
    },
    {
      "cell_type": "code",
      "source": [
        "def nested_list_flatten(nested_list):\n",
        "    # Define an empty list to hold the flattened elements\n",
        "    flat_list = []\n",
        "\n",
        "    # Iterate through each element in the nested_list\n",
        "    for element in nested_list:\n",
        "        # If the element is a list, recursively call nested_list_flatten\n",
        "        if isinstance(element, list):\n",
        "            flat_list.extend(nested_list_flatten(element))\n",
        "        else:\n",
        "            # If it's not a list, add the element directly to flat_list\n",
        "            flat_list.append(element)\n",
        "\n",
        "    return flat_list\n",
        "\n",
        "# Test Cases\n",
        "# Test with a simple nested list\n",
        "print(nested_list_flatten([1, [2, 3], [4, [5, 6]], 7]))\n",
        "\n",
        "# Test with deeper nesting\n",
        "print(nested_list_flatten([1, [2, [3, [4, [5]]]], 6]))\n",
        "\n",
        "# Test with an empty list\n",
        "print(nested_list_flatten([]))\n",
        "\n",
        "# Test with a list containing empty lists\n",
        "print(nested_list_flatten([[], [1, 2], [[], 3]]))\n"
      ],
      "metadata": {
        "colab": {
          "base_uri": "https://localhost:8080/"
        },
        "id": "udcPDFVNJ7HO",
        "outputId": "b769c2fb-2cd2-43db-b642-089d1185b473"
      },
      "execution_count": 8,
      "outputs": [
        {
          "output_type": "stream",
          "name": "stdout",
          "text": [
            "[1, 2, 3, 4, 5, 6, 7]\n",
            "[1, 2, 3, 4, 5, 6]\n",
            "[]\n",
            "[1, 2, 3]\n"
          ]
        }
      ]
    },
    {
      "cell_type": "markdown",
      "source": [
        "**Task 3: String Manipulation**\n",
        "\n",
        "Create a function custom_split that mimics Python’s str.split() but without using any string\n",
        "methods like split(), replace(), or join(). The function should split a string by spaces and return a\n",
        "list of words. You can assume words are separated by a single space."
      ],
      "metadata": {
        "id": "7Te5UQd0OC3a"
      }
    },
    {
      "cell_type": "code",
      "source": [
        "def custom_split(input_string):\n",
        "    # List to store the split words\n",
        "    words = []\n",
        "\n",
        "    # Temporary variable to store the current word\n",
        "    current_word = \"\"\n",
        "\n",
        "    # Iterate over each character in the string\n",
        "    for char in input_string:\n",
        "        if char == ' ':\n",
        "            # If a space is found and we have a current word, add it to the list\n",
        "            if current_word:\n",
        "                words.append(current_word)\n",
        "                current_word = \"\"  # Reset current_word for the next word\n",
        "        else:\n",
        "            # Add the character to the current word\n",
        "            current_word += char\n",
        "\n",
        "    # Add the last word if any (as there may not be a space after the last word)\n",
        "    if current_word:\n",
        "        words.append(current_word)\n",
        "\n",
        "    return words\n",
        "\n",
        "# Test Cases\n",
        "# Basic test case\n",
        "print(custom_split(\"This is a test\"))\n",
        "\n",
        "# Test case with leading and trailing spaces\n",
        "print(custom_split(\"   Hello world   \"))\n",
        "\n",
        "# Test case with multiple spaces between words\n",
        "print(custom_split(\"Python   is   fun\"))\n",
        "\n",
        "# Test case with an empty string\n",
        "print(custom_split(\"\"))\n",
        "\n",
        "# Test case with a single space\n",
        "print(custom_split(\" \"))\n"
      ],
      "metadata": {
        "colab": {
          "base_uri": "https://localhost:8080/"
        },
        "id": "QsAfdX3iKg06",
        "outputId": "69b5ad0a-ec0b-469c-ae77-3219f2bd306e"
      },
      "execution_count": 3,
      "outputs": [
        {
          "output_type": "stream",
          "name": "stdout",
          "text": [
            "['This', 'is', 'a', 'test']\n",
            "['Hello', 'world']\n",
            "['Python', 'is', 'fun']\n",
            "[]\n",
            "[]\n"
          ]
        }
      ]
    },
    {
      "cell_type": "markdown",
      "source": [
        "**Task 4: Numpy Array Construction**\n",
        "\n",
        "Write a function manual_identity_matrix that creates an identity matrix of size n x n without\n",
        "using NumPy’s built-in np.eye() or np.identity() functions."
      ],
      "metadata": {
        "id": "16yU-CWUOVHG"
      }
    },
    {
      "cell_type": "code",
      "source": [
        "def manual_identity_matrix(n):\n",
        "    # Create a 2D list with all zeros\n",
        "    identity = [[0 for _ in range(n)] for _ in range(n)]\n",
        "\n",
        "    # Set the diagonal elements to 1\n",
        "    for i in range(n):\n",
        "        identity[i][i] = 1\n",
        "\n",
        "    return identity\n",
        "\n",
        "# Test Cases\n",
        "# 3x3 identity matrix\n",
        "print(manual_identity_matrix(3))\n",
        "\n",
        "# 5x5 identity matrix\n",
        "print(manual_identity_matrix(5))\n",
        "\n",
        "# 1x1 identity matrix\n",
        "print(manual_identity_matrix(1))\n",
        "\n"
      ],
      "metadata": {
        "colab": {
          "base_uri": "https://localhost:8080/"
        },
        "id": "SSU6lUJlLFQT",
        "outputId": "fa73bd5b-366f-49f2-d6a7-0edbcc2d0eb5"
      },
      "execution_count": 7,
      "outputs": [
        {
          "output_type": "stream",
          "name": "stdout",
          "text": [
            "[[1, 0, 0], [0, 1, 0], [0, 0, 1]]\n",
            "[[1, 0, 0, 0, 0], [0, 1, 0, 0, 0], [0, 0, 1, 0, 0], [0, 0, 0, 1, 0], [0, 0, 0, 0, 1]]\n",
            "[[1]]\n"
          ]
        }
      ]
    },
    {
      "cell_type": "markdown",
      "source": [
        "T**ask 5: Custom Dot Product Manipulation**\n",
        "\n",
        "Implement your own function custom_dot_product to compute the dot product of two vectors\n",
        "without using np.dot (). Instead, perform the element-wise multiplication and summation\n",
        "manually using loops or list comprehensions."
      ],
      "metadata": {
        "id": "dZGWgflGO8kd"
      }
    },
    {
      "cell_type": "code",
      "source": [
        "def custom_dot_product(vector1, vector2):\n",
        "    # Check if the lengths of the vectors match\n",
        "    if len(vector1) != len(vector2):\n",
        "        raise ValueError(\"Vectors must be of the same length\")\n",
        "\n",
        "    # Calculate the dot product\n",
        "    dot_product = 0\n",
        "    for i in range(len(vector1)):\n",
        "        dot_product += vector1[i] * vector2[i]\n",
        "\n",
        "    return dot_product\n",
        "\n",
        "# Test Cases\n",
        "# Basic dot product example\n",
        "print(custom_dot_product([1, 2, 3], [4, 5, 6]))\n",
        "\n",
        "# Test with negative numbers\n",
        "print(custom_dot_product([-1, 2, -3], [4, -5, 6]))\n",
        "\n",
        "# Test with zeros\n",
        "print(custom_dot_product([0, 0, 0], [1, 2, 3]))\n"
      ],
      "metadata": {
        "colab": {
          "base_uri": "https://localhost:8080/"
        },
        "id": "Us1Wq2DEL5L0",
        "outputId": "80526757-c565-4ebb-ff1b-55c0c1883ed1"
      },
      "execution_count": 9,
      "outputs": [
        {
          "output_type": "stream",
          "name": "stdout",
          "text": [
            "32\n",
            "-32\n",
            "0\n"
          ]
        }
      ]
    },
    {
      "cell_type": "markdown",
      "source": [
        "**Task 6: Broadcasting with NumPy**\n",
        "\n",
        "You have two 1D NumPy arrays:\n",
        "arr1 = np.array([1, 2, 3])\n",
        "arr2 = np.array([10, 20, 30, 40])\n",
        "Using broadcasting, generate a 2D array where each element of arr1 is multiplied by all\n",
        "elements of arr2. Your output should look like this:\n",
        "\n",
        "output\n",
        "[[ 10 20 30 40]\n",
        "[ 20 40 60 80]\n",
        "[ 30 60 90 120]]\n",
        "Do not use loops."
      ],
      "metadata": {
        "id": "9sWk1g3XPKhi"
      }
    },
    {
      "cell_type": "code",
      "source": [
        "import numpy as np\n",
        "\n",
        "# Define the arrays\n",
        "arr1 = np.array([1, 2, 3])\n",
        "arr2 = np.array([10, 20, 30, 40])\n",
        "\n",
        "# Reshape arr1 to (3, 1) so that it can broadcast properly with arr2\n",
        "arr1_reshaped = arr1.reshape(3, 1)\n",
        "\n",
        "# Use broadcasting to multiply arr1 with arr2\n",
        "result = arr1_reshaped * arr2\n",
        "\n",
        "# Print the resulting 2D array\n",
        "print(result)\n"
      ],
      "metadata": {
        "colab": {
          "base_uri": "https://localhost:8080/"
        },
        "id": "ftHB87qEMSYJ",
        "outputId": "3fd73e8a-1b9e-4cb3-ff4d-04c896a7b4ad"
      },
      "execution_count": 6,
      "outputs": [
        {
          "output_type": "stream",
          "name": "stdout",
          "text": [
            "[[ 10  20  30  40]\n",
            " [ 20  40  60  80]\n",
            " [ 30  60  90 120]]\n"
          ]
        }
      ]
    },
    {
      "cell_type": "code",
      "source": [],
      "metadata": {
        "id": "vMInfkoZMfcC"
      },
      "execution_count": null,
      "outputs": []
    }
  ]
}