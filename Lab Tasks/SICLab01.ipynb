{
  "nbformat": 4,
  "nbformat_minor": 0,
  "metadata": {
    "colab": {
      "provenance": [],
      "authorship_tag": "ABX9TyNkRfFQBGDspNZifxe0wNOc",
      "include_colab_link": true
    },
    "kernelspec": {
      "name": "python3",
      "display_name": "Python 3"
    },
    "language_info": {
      "name": "python"
    }
  },
  "cells": [
    {
      "cell_type": "markdown",
      "metadata": {
        "id": "view-in-github",
        "colab_type": "text"
      },
      "source": [
        "<a href=\"https://colab.research.google.com/github/MirzaUmar1/SIC-Artificial-Intelligence/blob/main/Lab%20Tasks/SICLab01.ipynb\" target=\"_parent\"><img src=\"https://colab.research.google.com/assets/colab-badge.svg\" alt=\"Open In Colab\"/></a>"
      ]
    },
    {
      "cell_type": "markdown",
      "source": [
        "**Lab Work** - Class 01"
      ],
      "metadata": {
        "id": "LZRMXLbAGgf2"
      }
    },
    {
      "cell_type": "code",
      "source": [
        "name = \"Mirza Umar\"\n",
        "age = 23\n",
        "height = 5.10\n",
        "\n",
        "print(\"Name: \",name)\n",
        "print(\"Age: \",age)\n",
        "print(\"Height: \",height)"
      ],
      "metadata": {
        "id": "xIMKoCaAEjDU",
        "colab": {
          "base_uri": "https://localhost:8080/"
        },
        "outputId": "4996e9e5-ef1d-400a-b48f-d10244de009b"
      },
      "execution_count": null,
      "outputs": [
        {
          "output_type": "stream",
          "name": "stdout",
          "text": [
            "Name:  Mirza Umar\n",
            "Age:  23\n",
            "Height:  5.1\n"
          ]
        }
      ]
    },
    {
      "cell_type": "code",
      "source": [
        "a = 10\n",
        "b = 5\n",
        "print(a,\" + \",b,\" = \",a+b)\n",
        "print(a,\" - \",b,\" = \",a-b)\n",
        "print(a,\" * \",b,\" = \",a*b)\n",
        "print(a,\" / \",b,\" = \",a/b)\n"
      ],
      "metadata": {
        "id": "J_rR1WYjHa3V",
        "colab": {
          "base_uri": "https://localhost:8080/"
        },
        "outputId": "94ed4222-128c-4518-aaa7-fd86acabccfa"
      },
      "execution_count": null,
      "outputs": [
        {
          "output_type": "stream",
          "name": "stdout",
          "text": [
            "10  +  5  =  15\n",
            "10  -  5  =  5\n",
            "10  *  5  =  50\n",
            "10  /  5  =  2.0\n"
          ]
        }
      ]
    },
    {
      "cell_type": "code",
      "source": [
        "a=12\n",
        "b=2\n",
        "\n",
        "print(\"Square of \",a,\" = \",a ** b)\n",
        "print(\"Remainder of \",a,\"/\",b,\" = \",a % b)\n",
        "print(\"Floor division of \",a,\"/\",b,\" = \",a // b)"
      ],
      "metadata": {
        "colab": {
          "base_uri": "https://localhost:8080/"
        },
        "id": "hc3mSGUwNAOs",
        "outputId": "31b05479-72d7-4ded-cfe5-1db94aee2f41"
      },
      "execution_count": null,
      "outputs": [
        {
          "output_type": "stream",
          "name": "stdout",
          "text": [
            "Square of  12  =  144\n",
            "Remainder of  12 / 2  =  0\n",
            "Floor division of  12 / 2  =  6\n"
          ]
        }
      ]
    },
    {
      "cell_type": "code",
      "source": [
        "name = input(\"Enter your name: \")\n",
        "age= int(input(\"Enter your age:\"))\n",
        "\n",
        "print(\"Hello \",name,\", you are \",age,\" years old\")"
      ],
      "metadata": {
        "colab": {
          "base_uri": "https://localhost:8080/"
        },
        "id": "GRij8oYKOM18",
        "outputId": "6e5979dd-bc50-44fa-c2b3-f5ee0cf23c08"
      },
      "execution_count": null,
      "outputs": [
        {
          "output_type": "stream",
          "name": "stdout",
          "text": [
            "Enter your name: Mirza\n",
            "Enter your age:23\n",
            "Hello  Mirza , you are  23  years old\n"
          ]
        }
      ]
    },
    {
      "cell_type": "code",
      "source": [
        "number1 = input(\"Enter first number: \")\n",
        "number2 = input(\"Enter second number: \")\n",
        "\n",
        "total = int(number1) + int(number2)\n",
        "\n",
        "print(\"Sume of \",number1,\" and \",number2,\" = \",total)\n"
      ],
      "metadata": {
        "colab": {
          "base_uri": "https://localhost:8080/"
        },
        "id": "dS17Cv9qPGos",
        "outputId": "bd784f38-b4e1-4fb2-ea3e-06c36fd3dcd4"
      },
      "execution_count": null,
      "outputs": [
        {
          "output_type": "stream",
          "name": "stdout",
          "text": [
            "Enter first number: 38\n",
            "Enter second number: 46\n",
            "Sume of  38  and  46  =  84\n"
          ]
        }
      ]
    },
    {
      "cell_type": "markdown",
      "source": [
        "Control Flow: Conditional Statements"
      ],
      "metadata": {
        "id": "-fuR29NUP770"
      }
    },
    {
      "cell_type": "code",
      "source": [
        "number = int(input(\"Enter a number: \"))\n",
        "\n",
        "if number > 0:\n",
        "    print(number,\" is positive\")\n",
        "elif number < 0:\n",
        "    print(number,\" is negative\")\n",
        "else:\n",
        "    print(number,\" is zero\")"
      ],
      "metadata": {
        "colab": {
          "base_uri": "https://localhost:8080/"
        },
        "id": "GxmY0qIcQJWd",
        "outputId": "31314848-343a-44d5-c567-1705ed04cc19"
      },
      "execution_count": null,
      "outputs": [
        {
          "output_type": "stream",
          "name": "stdout",
          "text": [
            "Enter a number: -20\n",
            "-20  is negative\n"
          ]
        }
      ]
    },
    {
      "cell_type": "code",
      "source": [
        "for i in range(1,100):\n",
        "    if i % 3 ==0:\n",
        "      print(\"NUmber: \",i)"
      ],
      "metadata": {
        "colab": {
          "base_uri": "https://localhost:8080/"
        },
        "id": "c_qxnYJQQ5a8",
        "outputId": "1da9b721-c221-4f54-c989-1e39da35918c"
      },
      "execution_count": null,
      "outputs": [
        {
          "output_type": "stream",
          "name": "stdout",
          "text": [
            "NUmber:  3\n",
            "NUmber:  6\n",
            "NUmber:  9\n",
            "NUmber:  12\n",
            "NUmber:  15\n",
            "NUmber:  18\n",
            "NUmber:  21\n",
            "NUmber:  24\n",
            "NUmber:  27\n",
            "NUmber:  30\n",
            "NUmber:  33\n",
            "NUmber:  36\n",
            "NUmber:  39\n",
            "NUmber:  42\n",
            "NUmber:  45\n",
            "NUmber:  48\n",
            "NUmber:  51\n",
            "NUmber:  54\n",
            "NUmber:  57\n",
            "NUmber:  60\n",
            "NUmber:  63\n",
            "NUmber:  66\n",
            "NUmber:  69\n",
            "NUmber:  72\n",
            "NUmber:  75\n",
            "NUmber:  78\n",
            "NUmber:  81\n",
            "NUmber:  84\n",
            "NUmber:  87\n",
            "NUmber:  90\n",
            "NUmber:  93\n",
            "NUmber:  96\n",
            "NUmber:  99\n"
          ]
        }
      ]
    },
    {
      "cell_type": "code",
      "source": [
        "count = 0\n",
        "while count < 5:\n",
        "    print(\"Count: \",count)\n",
        "    count += 1"
      ],
      "metadata": {
        "colab": {
          "base_uri": "https://localhost:8080/"
        },
        "id": "bryJeaR4SJjM",
        "outputId": "e6cbf458-995a-4125-8e83-4581ddb98950"
      },
      "execution_count": null,
      "outputs": [
        {
          "output_type": "stream",
          "name": "stdout",
          "text": [
            "Count:  0\n",
            "Count:  1\n",
            "Count:  2\n",
            "Count:  3\n",
            "Count:  4\n"
          ]
        }
      ]
    },
    {
      "cell_type": "code",
      "source": [
        "for i in range(1,100):\n",
        "    if i % 3 ==0:\n",
        "      if i == 33:\n",
        "        break\n",
        "      print(\"NUmber: \",i)"
      ],
      "metadata": {
        "colab": {
          "base_uri": "https://localhost:8080/"
        },
        "id": "ND0LQ7FYTGqs",
        "outputId": "6af3af68-6a4b-44c2-b086-602df302c4cf"
      },
      "execution_count": null,
      "outputs": [
        {
          "output_type": "stream",
          "name": "stdout",
          "text": [
            "NUmber:  3\n",
            "NUmber:  6\n",
            "NUmber:  9\n",
            "NUmber:  12\n",
            "NUmber:  15\n",
            "NUmber:  18\n",
            "NUmber:  21\n",
            "NUmber:  24\n",
            "NUmber:  27\n",
            "NUmber:  30\n"
          ]
        }
      ]
    },
    {
      "cell_type": "code",
      "source": [
        "# Check if a number is prime\n",
        "\n",
        "number = int(input(\"Enter a number: \"))\n",
        "\n",
        "if number > 1:\n",
        "    for i in range(2,number):\n",
        "        if number % i == 0:\n",
        "            print(number,\" is not a prime number\")\n",
        "            break\n",
        "    else:\n",
        "        print(number,\" is a prime number\")"
      ],
      "metadata": {
        "colab": {
          "base_uri": "https://localhost:8080/"
        },
        "id": "wLxBlrRnTiXk",
        "outputId": "23b447ef-32f9-4304-9348-9edf421aa6ec"
      },
      "execution_count": null,
      "outputs": [
        {
          "output_type": "stream",
          "name": "stdout",
          "text": [
            "Enter a number: 33\n",
            "33  is not a prime number\n"
          ]
        }
      ]
    },
    {
      "cell_type": "markdown",
      "source": [
        "**Program to calculate the factorial of a number**\n",
        "---\n",
        "\n"
      ],
      "metadata": {
        "id": "EuJAzh0sUmLM"
      }
    },
    {
      "cell_type": "code",
      "source": [
        "number = int(input(\"Enter a number: \"))\n",
        "for i in range(1, number):\n",
        "    number *= i\n",
        "print(\"Factorial of \",number,\" = \",number)"
      ],
      "metadata": {
        "colab": {
          "base_uri": "https://localhost:8080/"
        },
        "id": "ZmHPJKQsU_SN",
        "outputId": "279159af-29f1-4a65-c168-dbfdcbf40271"
      },
      "execution_count": null,
      "outputs": [
        {
          "output_type": "stream",
          "name": "stdout",
          "text": [
            "Enter a number: 8\n",
            "Factorial of  40320  =  40320\n"
          ]
        }
      ]
    },
    {
      "cell_type": "code",
      "source": [
        "#List\n",
        "\n",
        "fruits = [\"mango\", \"pear\", \"orange\"]\n",
        "print(fruits)\n",
        "print(fruits[0],\" is the king of fruits\")"
      ],
      "metadata": {
        "colab": {
          "base_uri": "https://localhost:8080/"
        },
        "id": "48Q4jUI9V8BU",
        "outputId": "5b845161-5f20-46e2-8526-6e556acaab01"
      },
      "execution_count": null,
      "outputs": [
        {
          "output_type": "stream",
          "name": "stdout",
          "text": [
            "['mango', 'pear', 'orange']\n",
            "mango  is the king of fruits\n"
          ]
        }
      ]
    },
    {
      "cell_type": "code",
      "source": [
        "fruits.append(\"banana\")\n",
        "print(\"After adding: \",fruits)\n",
        "fruits.remove(\"pear\")\n",
        "print(\"After removing: \",fruits)"
      ],
      "metadata": {
        "colab": {
          "base_uri": "https://localhost:8080/"
        },
        "id": "hmDm4IpSW9ps",
        "outputId": "adb0cf0d-1df1-4e3e-ed62-f8f6bbeb8c96"
      },
      "execution_count": null,
      "outputs": [
        {
          "output_type": "stream",
          "name": "stdout",
          "text": [
            "After adding:  ['mango', 'pear', 'orange', 'banana']\n",
            "After removing:  ['mango', 'orange', 'banana']\n"
          ]
        }
      ]
    },
    {
      "cell_type": "code",
      "source": [
        "# Tuples\n",
        "\n",
        "fruits = (\"mango\", \"pear\", \"orange\")\n",
        "print(fruits[0],\" is the king of fruits\")"
      ],
      "metadata": {
        "colab": {
          "base_uri": "https://localhost:8080/"
        },
        "id": "II_1EjcqYdeV",
        "outputId": "efcaadfb-1dfd-4abf-90d5-f55baac81a18"
      },
      "execution_count": null,
      "outputs": [
        {
          "output_type": "stream",
          "name": "stdout",
          "text": [
            "mango  is the king of fruits\n"
          ]
        }
      ]
    },
    {
      "cell_type": "code",
      "source": [
        "# Dictionary\n",
        "\n",
        "student_grades = {\"Alice\": 90, \"Bob\": 80, \"Charlie\": 95}\n",
        "print(student_grades)"
      ],
      "metadata": {
        "colab": {
          "base_uri": "https://localhost:8080/"
        },
        "id": "ia7diewJZZtE",
        "outputId": "1f084194-3f44-49af-e401-e10bcc0035bf"
      },
      "execution_count": null,
      "outputs": [
        {
          "output_type": "stream",
          "name": "stdout",
          "text": [
            "{'Alice': 90, 'Bob': 85, 'Charlie': 95}\n"
          ]
        }
      ]
    },
    {
      "cell_type": "code",
      "source": [
        "print(\"Alice's grade: \", student_grades[\"Alice\"])\n",
        "if student_grades[\"Alice\"] >= 85:\n",
        "  print(\"Alice passed\")\n",
        "  print(\"Congratulations\")\n",
        "else :\n",
        "  print(\"Alice failed\")\n",
        "\n",
        "student_grades[\"Alice\"] = 100\n",
        "print(\"Alice's new grade: \", student_grades[\"Alice\"])"
      ],
      "metadata": {
        "colab": {
          "base_uri": "https://localhost:8080/"
        },
        "id": "8qXBQakObE_1",
        "outputId": "675f9101-8d9f-4d2c-cce7-e0474ac9e060"
      },
      "execution_count": null,
      "outputs": [
        {
          "output_type": "stream",
          "name": "stdout",
          "text": [
            "Alice's grade:  90\n",
            "Alice passed\n",
            "Congratulations\n",
            "Alice's new grade:  100\n"
          ]
        }
      ]
    },
    {
      "cell_type": "code",
      "source": [
        "#functions\n",
        "\n",
        "def greet(name):\n",
        "  print(\"Hello \",name)\n",
        "\n",
        "greet(\"Umar\")\n",
        "\n",
        "\n",
        "def greet_person(name,age):\n",
        "  print(\"Hello \",name)\n",
        "  print(\"You are \",age,\" years old\")\n",
        "\n",
        "greet_person(\"Umar\",23)\n",
        "\n"
      ],
      "metadata": {
        "colab": {
          "base_uri": "https://localhost:8080/"
        },
        "id": "I30DDz5Gchtt",
        "outputId": "c69fcb8d-30d1-4d63-fd2f-ae404238da7d"
      },
      "execution_count": null,
      "outputs": [
        {
          "output_type": "stream",
          "name": "stdout",
          "text": [
            "Hello  Umar\n",
            "Hello  Umar\n",
            "You are  23  years old\n"
          ]
        }
      ]
    },
    {
      "cell_type": "code",
      "source": [
        "def add(a,b):\n",
        "  return a + b\n",
        "\n",
        "result = add(10,20)\n",
        "print(\"Sum of both numbers is \",result)"
      ],
      "metadata": {
        "colab": {
          "base_uri": "https://localhost:8080/"
        },
        "id": "tRW8BAu4dNr0",
        "outputId": "a86d3a78-198f-48c3-a202-7d44d3b9f88d"
      },
      "execution_count": null,
      "outputs": [
        {
          "output_type": "stream",
          "name": "stdout",
          "text": [
            "Sum of both numbers is  30\n"
          ]
        }
      ]
    },
    {
      "cell_type": "code",
      "source": [
        "try:\n",
        "  number = int(input(\"Enter a number: \"))\n",
        "  print(\"You entered: \",number)\n",
        "except ValueError:\n",
        "  print(\"Invalid input. Please enter a valid number.\")"
      ],
      "metadata": {
        "colab": {
          "base_uri": "https://localhost:8080/"
        },
        "id": "wICZWKEMeehF",
        "outputId": "6b6a8fea-890a-4d31-cc95-1ac34c9bcf77"
      },
      "execution_count": null,
      "outputs": [
        {
          "output_type": "stream",
          "name": "stdout",
          "text": [
            "Enter a number: b\n",
            "Invalid input. Please enter a valid number.\n"
          ]
        }
      ]
    },
    {
      "cell_type": "markdown",
      "source": [
        "**Calculator**"
      ],
      "metadata": {
        "id": "CBJIQD9gf2OT"
      }
    },
    {
      "cell_type": "code",
      "source": [
        "num1 =int(input(\"Enter first number: \"))\n",
        "num2 =int(input(\"Enter second number: \"))\n",
        "print(\"Please select desired operation: \")\n",
        "print(\"1. Addition\")\n",
        "print(\"2. Subtraction\")\n",
        "print(\"3. Multiplication\")\n",
        "print(\"4. Division\")\n",
        "choice = int(input(\"Enter your choice (1-4): \"))\n",
        "if choice == 1:\n",
        "  print(num1,\" + \",num2,\" = \",num1+num2)\n",
        "elif choice == 2:\n",
        "  print(num1,\" - \",num2,\" = \",num1-num2)\n",
        "elif choice == 3:\n",
        "  print(num1,\" * \",num2,\" = \",num1*num2)\n",
        "elif choice == 4:\n",
        "  print(num1,\" / \",num2,\" = \",num1/num2)\n",
        "else :\n",
        "  print(\"Invalid command\")"
      ],
      "metadata": {
        "colab": {
          "base_uri": "https://localhost:8080/"
        },
        "id": "cwcJjyATganz",
        "outputId": "b05ae784-1b07-4235-ad3b-71a9e05a1606"
      },
      "execution_count": null,
      "outputs": [
        {
          "output_type": "stream",
          "name": "stdout",
          "text": [
            "Enter first number: 12\n",
            "Enter second number: 8\n",
            "Please select desired operation: \n",
            "1. Addition\n",
            "2. Subtraction\n",
            "3. Multiplication\n",
            "4. Division\n",
            "Enter your choice (1-4): 3\n",
            "12  *  8  =  96\n"
          ]
        }
      ]
    },
    {
      "cell_type": "markdown",
      "source": [
        "**Even and Odd**"
      ],
      "metadata": {
        "id": "NNN8mQ5Yhy40"
      }
    },
    {
      "cell_type": "code",
      "source": [
        "#even and odd function\n",
        "\n",
        "number = int(input(\"Enter a number: \"))\n",
        "if number % 2 == 0:\n",
        "  print(number,\" is even\")\n",
        "else :\n",
        "  print(number,\" is odd\")"
      ],
      "metadata": {
        "colab": {
          "base_uri": "https://localhost:8080/"
        },
        "id": "3BIgi6bmhted",
        "outputId": "e7001e06-3375-45d0-b1bb-f73feef4f74b"
      },
      "execution_count": null,
      "outputs": [
        {
          "output_type": "stream",
          "name": "stdout",
          "text": [
            "Enter a number: 19\n",
            "19  is odd\n"
          ]
        }
      ]
    },
    {
      "cell_type": "markdown",
      "source": [
        "**Vowels in a string**"
      ],
      "metadata": {
        "id": "h8-wz3PnlJ7-"
      }
    },
    {
      "cell_type": "code",
      "source": [
        "#count vowels in a string\n",
        "\n",
        "string = input(\"Enter a string: \")\n",
        "vowels = \"aeiouAEIOU\"\n",
        "count = 0\n",
        "for letter in string:\n",
        "  if letter in vowels:\n",
        "    count += 1\n",
        "print(\"Number of vowels in \",string,\" = \",count)"
      ],
      "metadata": {
        "id": "MRJWu3eKid1k",
        "colab": {
          "base_uri": "https://localhost:8080/"
        },
        "outputId": "85d6cc7d-42d7-4f35-d190-960098607607"
      },
      "execution_count": null,
      "outputs": [
        {
          "output_type": "stream",
          "name": "stdout",
          "text": [
            "Enter a string: umar\n",
            "Number of vowels in  umar  =  2\n"
          ]
        }
      ]
    }
  ]
}