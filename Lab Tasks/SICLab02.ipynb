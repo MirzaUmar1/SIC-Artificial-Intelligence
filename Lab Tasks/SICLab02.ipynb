{
  "nbformat": 4,
  "nbformat_minor": 0,
  "metadata": {
    "colab": {
      "provenance": [],
      "authorship_tag": "ABX9TyOEN7cJUn+Y+XSGclJos7tB",
      "include_colab_link": true
    },
    "kernelspec": {
      "name": "python3",
      "display_name": "Python 3"
    },
    "language_info": {
      "name": "python"
    }
  },
  "cells": [
    {
      "cell_type": "markdown",
      "metadata": {
        "id": "view-in-github",
        "colab_type": "text"
      },
      "source": [
        "<a href=\"https://colab.research.google.com/github/MirzaUmar1/SIC-Artificial-Intelligence/blob/main/Lab%20Tasks/SICLab02.ipynb\" target=\"_parent\"><img src=\"https://colab.research.google.com/assets/colab-badge.svg\" alt=\"Open In Colab\"/></a>"
      ]
    },
    {
      "cell_type": "code",
      "execution_count": null,
      "metadata": {
        "id": "Upxh5xNjlOEv",
        "colab": {
          "base_uri": "https://localhost:8080/"
        },
        "outputId": "23ce95b4-ff30-4818-8fee-de208f9d0baa"
      },
      "outputs": [
        {
          "output_type": "stream",
          "name": "stdout",
          "text": [
            "S10 = 185  by summation\n"
          ]
        }
      ],
      "source": [
        "N=10\n",
        "a=5\n",
        "d=3\n",
        "\n",
        "sum1=0\n",
        "for n in range(1, N+1):\n",
        "    sum1=sum1+(a+(n-1)*d)\n",
        "print(\"S10 =\", sum1, \" by summation\" )\n"
      ]
    },
    {
      "cell_type": "code",
      "source": [
        "N=11\n",
        "a=5\n",
        "d=7\n",
        "\n",
        "#print the sequence\n",
        "for n in range(1,N+1):\n",
        "    print(a+(n-1)*d, end=\" \")\n",
        "\n"
      ],
      "metadata": {
        "colab": {
          "base_uri": "https://localhost:8080/"
        },
        "id": "WdAMh429t1_r",
        "outputId": "3beecdd6-ceb0-4525-dd85-cd9174a0df39"
      },
      "execution_count": null,
      "outputs": [
        {
          "output_type": "stream",
          "name": "stdout",
          "text": [
            "5 12 19 26 33 40 47 54 61 68 75 "
          ]
        }
      ]
    },
    {
      "cell_type": "code",
      "source": [
        "#sum of sequence\n",
        "sum2=0\n",
        "for n in range(1, N+1):\n",
        "    sum2=sum2+(a+(n-1)*d)\n",
        "print(sum2)"
      ],
      "metadata": {
        "colab": {
          "base_uri": "https://localhost:8080/"
        },
        "id": "Za00XZGQvCI9",
        "outputId": "283fef53-e290-400f-b29e-622600a2a9b2"
      },
      "execution_count": null,
      "outputs": [
        {
          "output_type": "stream",
          "name": "stdout",
          "text": [
            "440\n"
          ]
        }
      ]
    },
    {
      "cell_type": "code",
      "source": [
        "#values divisible by 2\n",
        "N=11\n",
        "a=5\n",
        "d=3\n",
        "\n",
        "for n in range(1,N+1):\n",
        "    if (a+(n-1)*d)%2==0:\n",
        "        print(a+(n-1)*d, \" \")\n"
      ],
      "metadata": {
        "colab": {
          "base_uri": "https://localhost:8080/"
        },
        "id": "K49F9SfbwAQL",
        "outputId": "18ab5c1d-1aa4-415c-ca2e-2c321fd54c6d"
      },
      "execution_count": null,
      "outputs": [
        {
          "output_type": "stream",
          "name": "stdout",
          "text": [
            "8  \n",
            "14  \n",
            "20  \n",
            "26  \n",
            "32  \n"
          ]
        }
      ]
    },
    {
      "cell_type": "code",
      "source": [
        "# arithimatic product of the sequence\n",
        "\n",
        "product=1\n",
        "for n in range(1, N+1):\n",
        "    product=product*(a+(n-1)*d)\n",
        "print(product)"
      ],
      "metadata": {
        "colab": {
          "base_uri": "https://localhost:8080/"
        },
        "id": "4-30BiNfzn8y",
        "outputId": "d4038c63-a414-4a54-94d0-54c2b140d26a"
      },
      "execution_count": null,
      "outputs": [
        {
          "output_type": "stream",
          "name": "stdout",
          "text": [
            "40679614976000\n"
          ]
        }
      ]
    },
    {
      "cell_type": "markdown",
      "source": [
        "**Geometric Sequence**"
      ],
      "metadata": {
        "id": "TInjWFIi3GVq"
      }
    },
    {
      "cell_type": "code",
      "source": [
        "# geometric product of the sequence\n",
        "# N=11, d=3\n",
        "for n in range(1, N+1):\n",
        "    print(a*((d)**(n-1)))"
      ],
      "metadata": {
        "colab": {
          "base_uri": "https://localhost:8080/"
        },
        "id": "Kx860T_10umx",
        "outputId": "df96dff8-4bbb-4e43-e2b2-8dbd4a8a10ef"
      },
      "execution_count": null,
      "outputs": [
        {
          "output_type": "stream",
          "name": "stdout",
          "text": [
            "5\n",
            "15\n",
            "45\n",
            "135\n",
            "405\n",
            "1215\n",
            "3645\n",
            "10935\n",
            "32805\n",
            "98415\n",
            "295245\n"
          ]
        }
      ]
    },
    {
      "cell_type": "markdown",
      "source": [
        "**Geometric Product**"
      ],
      "metadata": {
        "id": "XwHuVlaU3YxC"
      }
    },
    {
      "cell_type": "code",
      "source": [
        "product=1\n",
        "for n in range(1, N+1):\n",
        "    product=product*(a*((d)**(n-1)))\n",
        "print(product)"
      ],
      "metadata": {
        "colab": {
          "base_uri": "https://localhost:8080/"
        },
        "id": "Zr3b7UiJ2pTc",
        "outputId": "84793735-7cd1-4e45-a9a8-7f178d0fed11"
      },
      "execution_count": null,
      "outputs": [
        {
          "output_type": "stream",
          "name": "stdout",
          "text": [
            "8518027881304696243709497412109375\n"
          ]
        }
      ]
    },
    {
      "cell_type": "markdown",
      "source": [
        "**Lab Work**"
      ],
      "metadata": {
        "id": "tSnA3v0oJtFI"
      }
    },
    {
      "cell_type": "markdown",
      "source": [
        "Complete 10 practice tasks. Read all learning materials for quiz."
      ],
      "metadata": {
        "id": "GEnheII0OEFM"
      }
    },
    {
      "cell_type": "code",
      "source": [
        "#integer\n",
        "print(\"integers\")\n",
        "marks = 33\n",
        "print(marks)\n",
        "print(33)\n",
        "print(type(marks))\n",
        "\n",
        "#float\n",
        "print(\"float\")\n",
        "price=12.89\n",
        "print(type(price))\n",
        "\n",
        "#string\n",
        "name= \"umar\"\n",
        "print(type(name))\n",
        "\n",
        "age = \"24\"\n",
        "print(type(age))\n",
        "\n",
        "#boolean\n",
        "is_available = True\n",
        "print(type(is_available))\n",
        "\n",
        "#List\n",
        "fruits=[\"apple\", \"mango\", \"banana\", \"orange\"]\n",
        "print(type(fruits))\n",
        "\n",
        "#tuple\n",
        "fruits=(\"apple\", \"mango\", \"banana\", \"orange\")\n",
        "print(type(fruits))\n",
        "\n",
        "#set\n",
        "fruits={\"apple\", \"mango\", \"banana\", \"orange\"}\n",
        "print(type(fruits))\n",
        "\n",
        "#complex\n",
        "\n",
        "complex_number= 2+3j\n",
        "print(type(complex_number))"
      ],
      "metadata": {
        "colab": {
          "base_uri": "https://localhost:8080/"
        },
        "id": "a8bTdS0qJy4e",
        "outputId": "1fd04134-6b69-46b2-e16d-2672d9ed4063"
      },
      "execution_count": null,
      "outputs": [
        {
          "output_type": "stream",
          "name": "stdout",
          "text": [
            "integers\n",
            "33\n",
            "33\n",
            "<class 'int'>\n",
            "float\n",
            "<class 'float'>\n",
            "<class 'str'>\n",
            "<class 'str'>\n",
            "<class 'bool'>\n",
            "<class 'list'>\n",
            "<class 'tuple'>\n",
            "<class 'set'>\n",
            "<class 'complex'>\n"
          ]
        }
      ]
    },
    {
      "cell_type": "markdown",
      "source": [
        "**Practice Task 1: Program that takes two numbers from the user and print output**"
      ],
      "metadata": {
        "id": "Bdz8BNh8RPWE"
      }
    },
    {
      "cell_type": "code",
      "source": [
        "from ast import Try\n",
        "num1 = int(input(\"Enter first number: \"))\n",
        "num2 = int(input(\"Enter secont number: \"))\n",
        "\n",
        "try:\n",
        "    if num1>num2:\n",
        "        print(\"True\")\n",
        "    elif num1<num2:\n",
        "        print(\"False\")\n",
        "except ValueError:\n",
        "    print(\"Please enter an integer\")\n",
        "finally:\n",
        "    print(\"Process Complete\")"
      ],
      "metadata": {
        "colab": {
          "base_uri": "https://localhost:8080/"
        },
        "id": "NBmjeg_gPHID",
        "outputId": "87c11ee1-4680-4ba6-dde8-9c65e188bb0d"
      },
      "execution_count": null,
      "outputs": [
        {
          "output_type": "stream",
          "name": "stdout",
          "text": [
            "Enter first number: 10\n",
            "Enter secont number: 20\n",
            "False\n",
            "Process Complete\n"
          ]
        }
      ]
    },
    {
      "cell_type": "markdown",
      "source": [
        "**Task 2: String with favourite. Using string methods**"
      ],
      "metadata": {
        "id": "s_pbqBWXSzWM"
      }
    },
    {
      "cell_type": "code",
      "source": [
        "quote = \"The only way to do great work is to love what you do\"\n",
        "print(\"\")\n",
        "print(\"String Length = \", len(quote))\n",
        "print(\"\")\n",
        "print(\"String Uppercase: \", quote.upper())\n",
        "print(\"String Lowercase: \", quote.lower())\n",
        "print(\"\")\n",
        "print(\"First character: \", quote[0])\n",
        "print(\"Last character: \", quote[-1])\n",
        "print(\"\")"
      ],
      "metadata": {
        "colab": {
          "base_uri": "https://localhost:8080/"
        },
        "id": "h3dVxUFLR2RY",
        "outputId": "9bfbc376-e07e-400d-931c-715ddc134048"
      },
      "execution_count": null,
      "outputs": [
        {
          "output_type": "stream",
          "name": "stdout",
          "text": [
            "\n",
            "String Length =  52\n",
            "\n",
            "String Uppercase:  THE ONLY WAY TO DO GREAT WORK IS TO LOVE WHAT YOU DO\n",
            "String Lowercase:  the only way to do great work is to love what you do\n",
            "\n",
            "First character:  T\n",
            "Last character:  o\n",
            "\n"
          ]
        }
      ]
    },
    {
      "cell_type": "markdown",
      "source": [
        "**Task 3: Create two sets and demonstrate union, intersection**"
      ],
      "metadata": {
        "id": "H07yKsbpUo4c"
      }
    },
    {
      "cell_type": "code",
      "source": [
        "fruits = {\"Apple\", \"Mango\", \"Banana\", \"Tomato\"}\n",
        "print(fruits)\n",
        "vegetables = {\"Potato\", \"Onion\", \"Tomato\", \"Chilli\"}\n",
        "print(vegetables)\n",
        "\n",
        "print(\"\")\n",
        "\n",
        "print(\"Union: \", fruits.union(vegetables))\n",
        "print(\"Intersection: \", fruits.intersection(vegetables))"
      ],
      "metadata": {
        "colab": {
          "base_uri": "https://localhost:8080/"
        },
        "id": "h3-y1tStUA0E",
        "outputId": "316a7908-b1f1-41b5-ab47-b35c39d2ee01"
      },
      "execution_count": null,
      "outputs": [
        {
          "output_type": "stream",
          "name": "stdout",
          "text": [
            "{'Tomato', 'Banana', 'Apple', 'Mango'}\n",
            "{'Chilli', 'Tomato', 'Potato', 'Onion'}\n",
            "\n",
            "Union:  {'Tomato', 'Potato', 'Banana', 'Onion', 'Chilli', 'Apple', 'Mango'}\n",
            "Intersection:  {'Tomato'}\n"
          ]
        }
      ]
    },
    {
      "cell_type": "markdown",
      "source": [
        "**Task 4: Create a dictionary to store information about your favourite book**"
      ],
      "metadata": {
        "id": "C7uJyCVbWLV0"
      }
    },
    {
      "cell_type": "code",
      "source": [
        "book = {\"Name\":\"Great Expectations\",\"Author\":\"Charles Dickens\",\"Year\":\"1861\",\"Genre\":\"Novel\"}\n",
        "print(book)\n",
        "print(\"Genre: \",book[\"Genre\"])"
      ],
      "metadata": {
        "colab": {
          "base_uri": "https://localhost:8080/"
        },
        "id": "amqQ-rDyYTQV",
        "outputId": "9f3d9ac8-0fed-4c7a-eb3d-e338d1964dc7"
      },
      "execution_count": null,
      "outputs": [
        {
          "output_type": "stream",
          "name": "stdout",
          "text": [
            "{'Name': 'Great Expectations', 'Author': 'Charles Dickens', 'Year': '1861', 'Genre': 'Novel'}\n",
            "Genre:  Novel\n"
          ]
        }
      ]
    },
    {
      "cell_type": "markdown",
      "source": [
        "**Task 5: Write a program that takes a user input as a string and converts it into an integer and float.**"
      ],
      "metadata": {
        "id": "zIF6MlrUZy1d"
      }
    },
    {
      "cell_type": "code",
      "source": [
        "num = input(\"Enter a number: \")\n",
        "\n",
        "num_int = int(num)\n",
        "print(\"Integer: \", num_int)\n",
        "\n",
        "num_float = float(num)\n",
        "print(\"Float: \", num_float)"
      ],
      "metadata": {
        "colab": {
          "base_uri": "https://localhost:8080/"
        },
        "id": "UIGWCHn4ZDck",
        "outputId": "f76d56f8-6428-4d8a-8b11-6c42f6f095ec"
      },
      "execution_count": null,
      "outputs": [
        {
          "output_type": "stream",
          "name": "stdout",
          "text": [
            "Enter a number: 25\n",
            "Integer:  25\n",
            "Float:  25.0\n"
          ]
        }
      ]
    },
    {
      "cell_type": "markdown",
      "source": [
        "**Task 6: Convert a list of integers into a set and then back into a list. Observe how duplicates are handled during conversion to a set.**"
      ],
      "metadata": {
        "id": "PNBEdu7ldS8E"
      }
    },
    {
      "cell_type": "code",
      "source": [
        "num = list(range(10,20))\n",
        "print(num)\n",
        "num.append(10)\n",
        "print(\"After appending: \",num)\n",
        "print(\"\")\n",
        "\n",
        "num_set=set(num)\n",
        "print(num_set)\n",
        "print(\"\")\n",
        "\n",
        "num_list=list(num_set)\n",
        "print(num_list)"
      ],
      "metadata": {
        "colab": {
          "base_uri": "https://localhost:8080/"
        },
        "id": "6JeAtZxnakcV",
        "outputId": "374523a1-6f6b-48eb-ee20-341da126378a"
      },
      "execution_count": null,
      "outputs": [
        {
          "output_type": "stream",
          "name": "stdout",
          "text": [
            "[10, 11, 12, 13, 14, 15, 16, 17, 18, 19]\n",
            "After appending:  [10, 11, 12, 13, 14, 15, 16, 17, 18, 19, 10]\n",
            "\n",
            "{10, 11, 12, 13, 14, 15, 16, 17, 18, 19}\n",
            "\n",
            "[10, 11, 12, 13, 14, 15, 16, 17, 18, 19]\n"
          ]
        }
      ]
    },
    {
      "cell_type": "markdown",
      "source": [
        "**Task 7: Create a tuple of strings. Convert the tuple into a list, modify one element in the list and convert it back again into a tuple.**"
      ],
      "metadata": {
        "id": "k-lZrmWbfNk-"
      }
    },
    {
      "cell_type": "code",
      "source": [
        "fruits = (\"Apple\", \"Mango\", \"Banana\", \"Tomato\")\n",
        "fruits_list=list(fruits)\n",
        "print(fruits_list)\n",
        "fruits_list[0]=\"Orange\"\n",
        "fruits=tuple(fruits_list)\n",
        "print(fruits)"
      ],
      "metadata": {
        "colab": {
          "base_uri": "https://localhost:8080/"
        },
        "id": "qLy9YPodfqm1",
        "outputId": "1543e5dc-79ef-43d3-bef8-01bc99ffdbcc"
      },
      "execution_count": null,
      "outputs": [
        {
          "output_type": "stream",
          "name": "stdout",
          "text": [
            "['Apple', 'Mango', 'Banana', 'Tomato']\n",
            "('Orange', 'Mango', 'Banana', 'Tomato')\n"
          ]
        }
      ]
    },
    {
      "cell_type": "markdown",
      "source": [
        "**Additional Practice Task**"
      ],
      "metadata": {
        "id": "tED5II3EgnT9"
      }
    },
    {
      "cell_type": "code",
      "source": [
        "value = input(\"Input: \")\n",
        "catagory = {\"Integer\":{}}\n"
      ],
      "metadata": {
        "id": "1RGgDVEXgr_d"
      },
      "execution_count": null,
      "outputs": []
    },
    {
      "cell_type": "markdown",
      "source": [
        "**Task 8: Finding the perimeter of rectangle** **bold text**"
      ],
      "metadata": {
        "id": "bL4xRQADiQAF"
      }
    },
    {
      "cell_type": "code",
      "source": [
        "width = float(input(\"Enter width: \"))\n",
        "height = float(input(\"Enter height: \"))\n",
        "print(\"Perimeter: \", 2*(width+height))"
      ],
      "metadata": {
        "colab": {
          "base_uri": "https://localhost:8080/"
        },
        "id": "XEIG_3LFiW0d",
        "outputId": "db921270-98ba-4cce-a3a9-61a96bde8549"
      },
      "execution_count": null,
      "outputs": [
        {
          "output_type": "stream",
          "name": "stdout",
          "text": [
            "Enter width: 5\n",
            "Enter height: 10\n",
            "Perimeter:  30.0\n"
          ]
        }
      ]
    },
    {
      "cell_type": "markdown",
      "source": [
        "**Task 9: Solving Linear Equation**"
      ],
      "metadata": {
        "id": "pTfSjSRgizZF"
      }
    },
    {
      "cell_type": "code",
      "source": [
        "#2x+5=11\n",
        "#x-7=7\n",
        "\n",
        "#x=11-5)/2\n",
        "\n",
        "a = int(input(\"Enter the value of a: \"))\n",
        "b = int(input(\"Enter the value of b: \"))\n",
        "c = int(input(\"Enter the value of c: \"))\n",
        "\n",
        "x = (b-c)/a\n",
        "print(\"x = \", x)\n"
      ],
      "metadata": {
        "colab": {
          "base_uri": "https://localhost:8080/"
        },
        "id": "sQeaekBsioJV",
        "outputId": "6f1430f9-75db-4c3e-9cac-ac5c79113ff3"
      },
      "execution_count": null,
      "outputs": [
        {
          "output_type": "stream",
          "name": "stdout",
          "text": [
            "Enter the value of a: 10\n",
            "Enter the value of b: 5\n",
            "Enter the value of c: 6\n",
            "x =  -0.1\n"
          ]
        }
      ]
    },
    {
      "cell_type": "markdown",
      "source": [
        "**Task 10: Graphing Linear Equations**"
      ],
      "metadata": {
        "id": "005UfBatm7hf"
      }
    },
    {
      "cell_type": "code",
      "source": [
        "#y = 2x - 3/ 2x-y=3\n",
        "\n",
        "import matplotlib.pyplot as plt\n",
        "\n",
        "m= float(input(\"Enter the value of x: \"))\n",
        "b= float(input(\"Enter the value of y: \"))\n",
        "\n",
        "x = [i for i in range(-10, 11)]\n",
        "y = [m*i+b for i in x]\n",
        "\n",
        "plt.plot(x,y)\n",
        "plt.xlabel(\"x\")\n",
        "plt.ylabel(\"y\")\n",
        "plt.title(\"Graph\")\n",
        "plt.grid(True)\n",
        "plt.show()\n",
        "\n",
        "\n"
      ],
      "metadata": {
        "colab": {
          "base_uri": "https://localhost:8080/",
          "height": 507
        },
        "id": "FN60qcN6ktP1",
        "outputId": "0f9ca05c-c938-479c-c822-2978b01cd1f1"
      },
      "execution_count": null,
      "outputs": [
        {
          "name": "stdout",
          "output_type": "stream",
          "text": [
            "Enter the value of x: 12\n",
            "Enter the value of y: 14\n"
          ]
        },
        {
          "output_type": "display_data",
          "data": {
            "text/plain": [
              "<Figure size 640x480 with 1 Axes>"
            ],
            "image/png": "[encoded data removed]"
          },
          "metadata": {}
        }
      ]
    },
    {
      "cell_type": "markdown",
      "source": [
        "**Added Practice Tasks**"
      ],
      "metadata": {
        "id": "3is92Yz4ZDey"
      }
    },
    {
      "cell_type": "markdown",
      "source": [
        "**Task 1:**\n",
        "\n",
        "Create a Python program that solves a linear equation of the form ax + b = c, where a, b, and c are user-input values. Use algebraic manipulation to solve for x."
      ],
      "metadata": {
        "id": "B08WwQs0ZOib"
      }
    },
    {
      "cell_type": "code",
      "source": [
        "a= float(input(\"Enter the value of a: \"))\n",
        "b= float(input(\"Enter the value of b: \"))\n",
        "c= float(input(\"Enter the value of c: \"))\n",
        "\n",
        "x = (c-b)/a\n",
        "print(\"x = \", x)"
      ],
      "metadata": {
        "colab": {
          "base_uri": "https://localhost:8080/"
        },
        "id": "ZJWt_dCYZHtx",
        "outputId": "32a155f1-7237-4258-acc2-276561ee6227"
      },
      "execution_count": null,
      "outputs": [
        {
          "output_type": "stream",
          "name": "stdout",
          "text": [
            "Enter the value of a: 12\n",
            "Enter the value of b: 5\n",
            "Enter the value of c: 6\n",
            "x =  0.08333333333333333\n"
          ]
        }
      ]
    },
    {
      "cell_type": "markdown",
      "source": [
        "**Task 2:**\n",
        "\n",
        "Write a Python program that takes a user-input string and performs the following operations:\n",
        "\n",
        "Convert the string to uppercase\n",
        "Remove all vowels from the string\n",
        "Count the number of consonants in the string\n",
        "Print the resulting string and consonant count"
      ],
      "metadata": {
        "id": "MMnDIZlAZi5C"
      }
    },
    {
      "cell_type": "code",
      "source": [],
      "metadata": {
        "id": "kYu4qYgEagyr"
      },
      "execution_count": null,
      "outputs": []
    },
    {
      "cell_type": "markdown",
      "source": [
        "**Task 3:**\n",
        "\n",
        "Create a Python program that performs the following set operations:\n",
        "\n",
        "Create two sets A and B with user-input values\n",
        "Compute the union of A and B\n",
        "Compute the intersection of A and B\n",
        "Compute the difference of A and B\n",
        "Print the resulting sets"
      ],
      "metadata": {
        "id": "dJGok1hubXsx"
      }
    },
    {
      "cell_type": "code",
      "source": [
        "A = {1,2,3,4,5}\n",
        "B = {4,5,6,7,8}\n",
        "\n",
        "print(\"Union: \", A.union(B))\n",
        "print(\"Intersection: \", A.intersection(B))\n",
        "print(\"Difference: \", A.difference(B))"
      ],
      "metadata": {
        "colab": {
          "base_uri": "https://localhost:8080/"
        },
        "id": "237v9eFobcix",
        "outputId": "3b83fae3-39e8-4b9b-b920-06d7d29d63f0"
      },
      "execution_count": null,
      "outputs": [
        {
          "output_type": "stream",
          "name": "stdout",
          "text": [
            "Union:  {1, 2, 3, 4, 5, 6, 7, 8}\n",
            "Intersection:  {4, 5}\n",
            "Difference:  {1, 2, 3}\n"
          ]
        }
      ]
    },
    {
      "cell_type": "markdown",
      "source": [
        "**Task 4:**\n",
        "\n",
        "Create a Python program that takes a user-input list of integers and performs the following operations:\n",
        "\n",
        "Convert the list to a set\n",
        "Remove duplicates from the set\n",
        "Convert the set back to a list\n",
        "Print the resulting list"
      ],
      "metadata": {
        "id": "EDR9-OAjb95C"
      }
    },
    {
      "cell_type": "code",
      "source": [
        "A = [1,2,3,4,5]\n",
        "B = [4,5,6,7,8]\n",
        "\n",
        "A_set = set(A)\n",
        "B_set = set(B)\n",
        "C = A_set.union(B_set)\n",
        "print(\"Union: \", C)\n",
        "print(\"Intersection: \", A_set.intersection(B_set))\n",
        "\n",
        "A_set = list(C)\n",
        "print(\"Resulting List\", A_set)"
      ],
      "metadata": {
        "colab": {
          "base_uri": "https://localhost:8080/"
        },
        "id": "1xU5v3pgb5Gr",
        "outputId": "7a40bdcc-766c-4d0a-d31d-73bc32922a3e"
      },
      "execution_count": null,
      "outputs": [
        {
          "output_type": "stream",
          "name": "stdout",
          "text": [
            "Union:  {1, 2, 3, 4, 5, 6, 7, 8}\n",
            "Intersection:  {4, 5}\n",
            "Resulting List [1, 2, 3, 4, 5, 6, 7, 8]\n"
          ]
        }
      ]
    },
    {
      "cell_type": "code",
      "source": [],
      "metadata": {
        "id": "ZxB2A-x6cjzq"
      },
      "execution_count": null,
      "outputs": []
    }
  ]
}