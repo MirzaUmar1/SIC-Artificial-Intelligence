{
  "nbformat": 4,
  "nbformat_minor": 0,
  "metadata": {
    "colab": {
      "provenance": [],
      "authorship_tag": "ABX9TyOxsoab7gArVMyAgHgsEvO3",
      "include_colab_link": true
    },
    "kernelspec": {
      "name": "python3",
      "display_name": "Python 3"
    },
    "language_info": {
      "name": "python"
    }
  },
  "cells": [
    {
      "cell_type": "markdown",
      "metadata": {
        "id": "view-in-github",
        "colab_type": "text"
      },
      "source": [
        "<a href=\"https://colab.research.google.com/github/MirzaUmar1/SIC-Artificial-Intelligence/blob/main/Lab%20Tasks/SICLab03.ipynb\" target=\"_parent\"><img src=\"https://colab.research.google.com/assets/colab-badge.svg\" alt=\"Open In Colab\"/></a>"
      ]
    },
    {
      "cell_type": "markdown",
      "source": [
        "**Task 1:**\n",
        "\n",
        "Given the following 2D NumPy array:\n",
        "\n",
        "arr = np.array([[1, 2, 3], [4, 5, 6]])\n",
        "Transpose the array and print the result."
      ],
      "metadata": {
        "id": "6keYiTuSTVpS"
      }
    },
    {
      "cell_type": "code",
      "source": [
        "import numpy as np\n",
        "arr = np.array([[1,2,3],[4,5,6]])\n",
        "\n",
        "print(\"Array: \", arr)\n",
        "\n",
        "arr_tr = np.transpose(arr)\n",
        "print(\"Transpose: \", arr_tr)\n"
      ],
      "metadata": {
        "colab": {
          "base_uri": "https://localhost:8080/"
        },
        "id": "0wW1aGJvTmrg",
        "outputId": "377bd2bf-37bb-458d-eeff-d17540b0f4c7"
      },
      "execution_count": null,
      "outputs": [
        {
          "output_type": "stream",
          "name": "stdout",
          "text": [
            "Array:  [[1 2 3]\n",
            " [4 5 6]]\n",
            "Transpose:  [[1 4]\n",
            " [2 5]\n",
            " [3 6]]\n"
          ]
        }
      ]
    },
    {
      "cell_type": "markdown",
      "source": [
        "**Task 2:**\n",
        "\n",
        "Accessing Elements in a 2D NumPy Array\n",
        "Given the following 2D NumPy array:\n",
        "arr = np.array([[1, 2, 3], [4, 5, 6], [7, 8, 9]])\n",
        "Use indexing to:\n",
        "\n",
        "Access the element at row 1, column 2 and print its value.\n",
        "Access the entire second row and print its values.\n",
        "Access the entire first column and print its values."
      ],
      "metadata": {
        "id": "IL__zq8JU3vq"
      }
    },
    {
      "cell_type": "code",
      "source": [
        "import numpy as np\n",
        "arr = np.array([[1,2,3],[4,5,6],[7,8,9]])\n",
        "\n",
        "print(\"Array: \", arr)\n",
        "\n",
        "print(\"Element at row 1, column 2: \", arr[0,1])\n",
        "\n",
        "print(\"Entire second row: \", arr[1,:])\n",
        "\n",
        "print(\"Entire first column: \", arr[:,0])"
      ],
      "metadata": {
        "colab": {
          "base_uri": "https://localhost:8080/"
        },
        "id": "hklc-FwxT9kb",
        "outputId": "3b058eac-5d25-4a05-9e4b-dad896e6d33e"
      },
      "execution_count": null,
      "outputs": [
        {
          "output_type": "stream",
          "name": "stdout",
          "text": [
            "Array:  [[1 2 3]\n",
            " [4 5 6]\n",
            " [7 8 9]]\n",
            "Element at row 1, column 2:  2\n",
            "Entire second row:  [4 5 6]\n",
            "Entire first column:  [1 4 7]\n"
          ]
        }
      ]
    },
    {
      "cell_type": "markdown",
      "source": [
        "**Task 3:**\n",
        "\n",
        "Given the following 1D NumPy array:\n",
        "\n",
        "x = np.array([1, 2, 3, 4, 5])\n",
        "\n",
        "Compute the Euclidean norm (L2 norm) of the array and print its value.\n"
      ],
      "metadata": {
        "id": "Tz7Uu69cWef-"
      }
    },
    {
      "cell_type": "code",
      "source": [
        "import numpy as np\n",
        "\n",
        "x= np.array([1,2,3,4,5])\n",
        "\n",
        "print(\"Array: \", x)\n",
        "\n",
        "norm = np.linalg.norm(x)\n",
        "\n",
        "print(\"Euclidean norm: \", norm)"
      ],
      "metadata": {
        "colab": {
          "base_uri": "https://localhost:8080/"
        },
        "id": "c8C6OYYnVTuq",
        "outputId": "9582630c-fb9f-4cce-877b-ef067d4b6060"
      },
      "execution_count": null,
      "outputs": [
        {
          "output_type": "stream",
          "name": "stdout",
          "text": [
            "Array:  [1 2 3 4 5]\n",
            "Euclidean norm:  7.416198487095663\n"
          ]
        }
      ]
    }
  ]
}