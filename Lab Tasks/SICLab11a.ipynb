{
  "nbformat": 4,
  "nbformat_minor": 0,
  "metadata": {
    "colab": {
      "provenance": [],
      "authorship_tag": "ABX9TyMxMBvobhppWvkHuAWun/2O",
      "include_colab_link": true
    },
    "kernelspec": {
      "name": "python3",
      "display_name": "Python 3"
    },
    "language_info": {
      "name": "python"
    }
  },
  "cells": [
    {
      "cell_type": "markdown",
      "metadata": {
        "id": "view-in-github",
        "colab_type": "text"
      },
      "source": [
        "<a href=\"https://colab.research.google.com/github/MirzaUmar1/SIC-Artificial-Intelligence/blob/main/Lab%20Tasks/SICLab11a.ipynb\" target=\"_parent\"><img src=\"https://colab.research.google.com/assets/colab-badge.svg\" alt=\"Open In Colab\"/></a>"
      ]
    },
    {
      "cell_type": "markdown",
      "source": [
        "#**Lab Tasks**"
      ],
      "metadata": {
        "id": "5AbyTWm3Cts5"
      }
    },
    {
      "cell_type": "code",
      "source": [
        "import numpy as np\n",
        "import matplotlib.pyplot as plt\n",
        "import scipy.stats as stats"
      ],
      "metadata": {
        "id": "8DwTkEPzDae3"
      },
      "execution_count": 1,
      "outputs": []
    },
    {
      "cell_type": "markdown",
      "source": [
        "##**Task 1: Binomial Distribution - Calculate PMF**"
      ],
      "metadata": {
        "id": "4qForMdFCyOX"
      }
    },
    {
      "cell_type": "markdown",
      "source": [
        "###**Calculate the probability of getting exactly 7 heads when flipping a fair coin 10 times.**"
      ],
      "metadata": {
        "id": "rvi_jfZRC3xm"
      }
    },
    {
      "cell_type": "markdown",
      "source": [
        "*   Number of trials: 10\n",
        "*   Number of successes: 7\n",
        "*   Probability of success on each trial: 0.5"
      ],
      "metadata": {
        "id": "qG_SNojbC9bK"
      }
    },
    {
      "cell_type": "code",
      "execution_count": 2,
      "metadata": {
        "colab": {
          "base_uri": "https://localhost:8080/"
        },
        "id": "zGp_wl3aCes8",
        "outputId": "3e8adcbd-4cfa-40c6-f6fc-f2ba667d1213"
      },
      "outputs": [
        {
          "output_type": "execute_result",
          "data": {
            "text/plain": [
              "0.11718749999999999"
            ]
          },
          "metadata": {},
          "execution_count": 2
        }
      ],
      "source": [
        "stats.binom.pmf(7, 10, 0.5)"
      ]
    },
    {
      "cell_type": "markdown",
      "source": [
        "\n",
        "##**Task 2: Binomial Distribution - Calculate CDF**"
      ],
      "metadata": {
        "id": "-AfDACbjEgzT"
      }
    },
    {
      "cell_type": "markdown",
      "source": [
        "###**Determine the probability of getting 4 or fewer heads when flipping a fair coin 10 times.**\n"
      ],
      "metadata": {
        "id": "7jPiVNafEnDw"
      }
    },
    {
      "cell_type": "markdown",
      "source": [
        "*   Number of trials: 10\n",
        "*   Number of successes: 4\n",
        "*   Probability of success on each trial: 0.5"
      ],
      "metadata": {
        "id": "Ue1EKd53Etaf"
      }
    },
    {
      "cell_type": "code",
      "source": [
        "stats.binom.cdf(4, 10, 0.5)"
      ],
      "metadata": {
        "colab": {
          "base_uri": "https://localhost:8080/"
        },
        "id": "Sw3TkHvPEdUI",
        "outputId": "68d40bd5-7ec3-4bed-e543-b64c955d0c8a"
      },
      "execution_count": 3,
      "outputs": [
        {
          "output_type": "execute_result",
          "data": {
            "text/plain": [
              "0.376953125"
            ]
          },
          "metadata": {},
          "execution_count": 3
        }
      ]
    },
    {
      "cell_type": "markdown",
      "source": [
        "##**Task 3: Poisson Distribution - Calculate PMF**"
      ],
      "metadata": {
        "id": "8dqALm6oFIZ-"
      }
    },
    {
      "cell_type": "markdown",
      "source": [
        "###**Find the probability of receiving exactly 5 phone calls in an hour if the average number of calls is 3.**"
      ],
      "metadata": {
        "id": "Kdby_1tMFNPX"
      }
    },
    {
      "cell_type": "markdown",
      "source": [
        "*   Average number of events (( \\lambda )): 3\n",
        "*   Number of events: 5\n"
      ],
      "metadata": {
        "id": "7vgs85baFPkH"
      }
    },
    {
      "cell_type": "code",
      "source": [
        "stats.poisson.pmf(5, 3)"
      ],
      "metadata": {
        "colab": {
          "base_uri": "https://localhost:8080/"
        },
        "id": "ODJ7m25QFCe3",
        "outputId": "2c82db7b-d7fe-4789-b659-466bb6058d0b"
      },
      "execution_count": 4,
      "outputs": [
        {
          "output_type": "execute_result",
          "data": {
            "text/plain": [
              "0.10081881344492458"
            ]
          },
          "metadata": {},
          "execution_count": 4
        }
      ]
    },
    {
      "cell_type": "markdown",
      "source": [
        "##**Task 4: Poisson Distribution - Calculate CDF**\n"
      ],
      "metadata": {
        "id": "hzVpSDbsFVtd"
      }
    },
    {
      "cell_type": "markdown",
      "source": [
        "###**Calculate the probability of receiving 2 or fewer phone calls in an hour when the average number of calls is 3.**"
      ],
      "metadata": {
        "id": "mXeirLFNFaWw"
      }
    },
    {
      "cell_type": "markdown",
      "source": [
        "*   Average number of events (( \\lambda )): 3\n",
        "*   Number of events: 2"
      ],
      "metadata": {
        "id": "QLtO71iqFfvD"
      }
    },
    {
      "cell_type": "code",
      "source": [
        "stats.poisson.cdf(2, 3)"
      ],
      "metadata": {
        "colab": {
          "base_uri": "https://localhost:8080/"
        },
        "id": "f-PmVFIoFS57",
        "outputId": "b2782103-cfd9-4d9f-e6ad-27b1c7e9fe38"
      },
      "execution_count": 5,
      "outputs": [
        {
          "output_type": "execute_result",
          "data": {
            "text/plain": [
              "0.42319008112684364"
            ]
          },
          "metadata": {},
          "execution_count": 5
        }
      ]
    }
  ]
}