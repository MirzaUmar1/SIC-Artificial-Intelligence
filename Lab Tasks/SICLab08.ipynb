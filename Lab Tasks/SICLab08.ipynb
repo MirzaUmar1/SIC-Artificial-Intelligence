{
  "nbformat": 4,
  "nbformat_minor": 0,
  "metadata": {
    "colab": {
      "provenance": [],
      "authorship_tag": "ABX9TyNgtATfSQ3HjECiOdV2HI7F",
      "include_colab_link": true
    },
    "kernelspec": {
      "name": "python3",
      "display_name": "Python 3"
    },
    "language_info": {
      "name": "python"
    }
  },
  "cells": [
    {
      "cell_type": "markdown",
      "metadata": {
        "id": "view-in-github",
        "colab_type": "text"
      },
      "source": [
        "<a href=\"https://colab.research.google.com/github/MirzaUmar1/SIC-Artificial-Intelligence/blob/main/Lab%20Tasks/SICLab08.ipynb\" target=\"_parent\"><img src=\"https://colab.research.google.com/assets/colab-badge.svg\" alt=\"Open In Colab\"/></a>"
      ]
    },
    {
      "cell_type": "markdown",
      "source": [
        "# **Lab Practice Tasks**"
      ],
      "metadata": {
        "id": "rHwGPTtg30tz"
      }
    },
    {
      "cell_type": "markdown",
      "source": [
        "## **Pandas Series Operations**"
      ],
      "metadata": {
        "id": "ddh25OVP3-sO"
      }
    },
    {
      "cell_type": "markdown",
      "source": [
        "### **Task 1:**"
      ],
      "metadata": {
        "id": "qfAlIqR44JEP"
      }
    },
    {
      "cell_type": "markdown",
      "source": [
        "Create and Perform Arithmetic Operations on Series\n",
        "Create two Pandas Series using the following data:\n",
        "\n",
        "Series 1: [10, 20, 30, 40] with index ['a', 'b', 'c', 'd']<br>\n",
        "Series 2: [5, 10, 15, 20] with index ['a', 'b', 'c', 'd']<br>\n",
        "Perform the following operations:\n",
        "\n",
        "Add the two Series together,\n",
        "Subtract Series 2 from Series 1,\n",
        "Multiply the Series,\n",
        "Divide Series 1 by Series 2,\n",
        "Print the results of each operation,\n"
      ],
      "metadata": {
        "id": "wsuG-eMOBZL3"
      }
    },
    {
      "cell_type": "code",
      "execution_count": 1,
      "metadata": {
        "id": "Lnqea1TJpWIQ"
      },
      "outputs": [],
      "source": [
        "import pandas as pd"
      ]
    },
    {
      "cell_type": "code",
      "source": [
        "series1 = pd.Series([10,20,30,40], index = ['a','b','c','d'])\n",
        "series2 = pd.Series([5,10,15,20], index = ['a','b','c','d'])\n",
        "\n",
        "addition = series1 + series2\n",
        "subtraction = series1 - series2\n",
        "multiplication = series1 * series2\n",
        "division = series1 / series2\n",
        "print('Addition\\n',addition)\n",
        "print('\\nSubtraction\\n',subtraction)\n",
        "print('\\nMultiplication\\n',multiplication)\n",
        "print('\\nDivision\\n',division)"
      ],
      "metadata": {
        "colab": {
          "base_uri": "https://localhost:8080/"
        },
        "id": "nG343xcp4phW",
        "outputId": "beb831ab-0388-436f-fd6b-328ac4560d97"
      },
      "execution_count": 6,
      "outputs": [
        {
          "output_type": "stream",
          "name": "stdout",
          "text": [
            "Addition\n",
            " a    15\n",
            "b    30\n",
            "c    45\n",
            "d    60\n",
            "dtype: int64\n",
            "\n",
            "Subtraction\n",
            " a     5\n",
            "b    10\n",
            "c    15\n",
            "d    20\n",
            "dtype: int64\n",
            "\n",
            "Multiplication\n",
            " a     50\n",
            "b    200\n",
            "c    450\n",
            "d    800\n",
            "dtype: int64\n",
            "\n",
            "Division\n",
            " a    2.0\n",
            "b    2.0\n",
            "c    2.0\n",
            "d    2.0\n",
            "dtype: float64\n"
          ]
        }
      ]
    },
    {
      "cell_type": "markdown",
      "source": [
        "### **Task 2:**"
      ],
      "metadata": {
        "id": "YK6da4Rw7nNB"
      }
    },
    {
      "cell_type": "markdown",
      "source": [
        "Analyze Data Using Statistical Methods<br>\n",
        "Create a Pandas Series with the following values: [34, 27, 45, 30, np.nan, 41, 50].\n",
        "\n",
        "Perform the following statistical operations:\n",
        "\n",
        "Calculate the mean, sum, and standard deviation of the Series.\n",
        "<br>Identify the minimum and maximum values in the Series.<br>\n",
        "Print the results of each operation.\n"
      ],
      "metadata": {
        "id": "I-iwPC-mB0HA"
      }
    },
    {
      "cell_type": "code",
      "source": [
        "import numpy as np\n",
        "\n",
        "data = pd.Series([34,27,45,30,np.nan,41,50])\n",
        "\n",
        "data_mean = data.mean()\n",
        "data_sum = data.sum()\n",
        "data_std = data.std()\n",
        "data_min = data.min()\n",
        "data_max = data.max()\n",
        "\n",
        "print('Mean:',data_mean)\n",
        "print('Sum:',data_sum)\n",
        "print('Standard Deviation:',data_std)\n",
        "print('Minimum:',data_min)\n",
        "print('Maximum:',data_max)"
      ],
      "metadata": {
        "colab": {
          "base_uri": "https://localhost:8080/"
        },
        "id": "YAy9kBgK7Exs",
        "outputId": "300e596e-3507-4d24-c4b9-45cc78c2b278"
      },
      "execution_count": 7,
      "outputs": [
        {
          "output_type": "stream",
          "name": "stdout",
          "text": [
            "Mean: 37.833333333333336\n",
            "Sum: 227.0\n",
            "Standard Deviation: 8.975893641675277\n",
            "Minimum: 27.0\n",
            "Maximum: 50.0\n"
          ]
        }
      ]
    },
    {
      "cell_type": "markdown",
      "source": [
        "### **Task 3:**"
      ],
      "metadata": {
        "id": "0zybvhgZ-oDD"
      }
    },
    {
      "cell_type": "markdown",
      "source": [
        "Create a Pandas Series using the following data:\n",
        "\n",
        "Values: [120, 55, 90, 45, 100, 80]\n",
        "Index: ['item1', 'item2', 'item3', 'item4', 'item5', 'item6']\n",
        "\n",
        "Perform the following tasks:<br>\n",
        "Sort the Series by its values in ascending order.<br>\n",
        "Print the sorted.\n"
      ],
      "metadata": {
        "id": "3Z-yly6TCTIZ"
      }
    },
    {
      "cell_type": "code",
      "source": [
        "data = pd.Series([120, 55, 90, 45, 100, 80], index=['item1','item2','item3','item4','item5','item6'])\n",
        "sorted_data = data.sort_values()\n",
        "print(sorted_data)"
      ],
      "metadata": {
        "colab": {
          "base_uri": "https://localhost:8080/"
        },
        "id": "hVXL7LSu-WAY",
        "outputId": "6ea84135-2d4d-4a79-c551-7a1707256535"
      },
      "execution_count": 9,
      "outputs": [
        {
          "output_type": "stream",
          "name": "stdout",
          "text": [
            "item4     45\n",
            "item2     55\n",
            "item6     80\n",
            "item3     90\n",
            "item5    100\n",
            "item1    120\n",
            "dtype: int64\n"
          ]
        }
      ]
    },
    {
      "cell_type": "markdown",
      "source": [
        "### **Task 4:**"
      ],
      "metadata": {
        "id": "1JPUNTfc_ydY"
      }
    },
    {
      "cell_type": "markdown",
      "source": [
        "Create a Pandas Series with the following values: [5, np.nan, 15, 20, np.nan, 35].\n",
        "\n",
        "Perform the following tasks:\n",
        "\n",
        "Check for missing values using the isna() method.<br>\n",
        "Drop all rows with missing values.<br>\n",
        "Replace the missing values with a fixed value, say 0.<br>\n",
        "Print the results after each task."
      ],
      "metadata": {
        "id": "Up0L9MzQCfSG"
      }
    },
    {
      "cell_type": "code",
      "source": [
        "values = pd.Series([5,np.nan,15,20,np.nan,35])\n",
        "\n",
        "dt_missing = values.isna()\n",
        "print('Missing Values: \\n',dt_missing)\n",
        "dt_drop = values.dropna()\n",
        "print('\\nAfter dropping missing values: \\n',dt_drop)\n",
        "dt_fill = values.fillna(0)\n",
        "print('\\nReplacing missing values with 0: \\n',dt_fill)\n"
      ],
      "metadata": {
        "colab": {
          "base_uri": "https://localhost:8080/"
        },
        "id": "RDb8MmIz_qpU",
        "outputId": "5b4df849-70cb-4e2f-c7d8-0dffd3e43efc"
      },
      "execution_count": 12,
      "outputs": [
        {
          "output_type": "stream",
          "name": "stdout",
          "text": [
            "Missing Values: \n",
            " 0    False\n",
            "1     True\n",
            "2    False\n",
            "3    False\n",
            "4     True\n",
            "5    False\n",
            "dtype: bool\n",
            "\n",
            "After dropping missing values: \n",
            " 0     5.0\n",
            "2    15.0\n",
            "3    20.0\n",
            "5    35.0\n",
            "dtype: float64\n",
            "\n",
            "Replacing missing values with 0: \n",
            " 0     5.0\n",
            "1     0.0\n",
            "2    15.0\n",
            "3    20.0\n",
            "4     0.0\n",
            "5    35.0\n",
            "dtype: float64\n"
          ]
        }
      ]
    }
  ]
}