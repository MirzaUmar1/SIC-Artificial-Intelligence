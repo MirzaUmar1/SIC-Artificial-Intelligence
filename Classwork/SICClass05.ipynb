{
  "nbformat": 4,
  "nbformat_minor": 0,
  "metadata": {
    "colab": {
      "provenance": [],
      "authorship_tag": "ABX9TyML4+h1+FgOwBiNhi7A7GZ8",
      "include_colab_link": true
    },
    "kernelspec": {
      "name": "python3",
      "display_name": "Python 3"
    },
    "language_info": {
      "name": "python"
    }
  },
  "cells": [
    {
      "cell_type": "markdown",
      "metadata": {
        "id": "view-in-github",
        "colab_type": "text"
      },
      "source": [
        "<a href=\"https://colab.research.google.com/github/MirzaUmar1/SIC-Artificial-Intelligence/blob/main/Classwork/SICClass05.ipynb\" target=\"_parent\"><img src=\"https://colab.research.google.com/assets/colab-badge.svg\" alt=\"Open In Colab\"/></a>"
      ]
    },
    {
      "cell_type": "markdown",
      "source": [
        "# **Class Tasks:**"
      ],
      "metadata": {
        "id": "sjdgwKrL4I_Q"
      }
    },
    {
      "cell_type": "markdown",
      "source": [
        "## **Matrices**"
      ],
      "metadata": {
        "id": "TNETih0GUSwP"
      }
    },
    {
      "cell_type": "markdown",
      "source": [
        "**Determinent and Inverse of a matrix**"
      ],
      "metadata": {
        "id": "VE7muHDI4Rtg"
      }
    },
    {
      "cell_type": "code",
      "execution_count": 3,
      "metadata": {
        "colab": {
          "base_uri": "https://localhost:8080/"
        },
        "id": "w_1XyKuw3H9y",
        "outputId": "e5da52ce-626d-451b-caf2-ee95e4d171c5"
      },
      "outputs": [
        {
          "output_type": "stream",
          "name": "stdout",
          "text": [
            "Determinent of A =  -7.999999999999998\n",
            "Inverse of A =  [[-0.875  0.375]\n",
            " [ 0.625 -0.125]]\n",
            "Determinent of B =  0.0\n"
          ]
        }
      ],
      "source": [
        "import numpy as np\n",
        "\n",
        "A = np.array([[1,3],[5,7]])\n",
        "B = np.array([[4,-6],[-8,12]])\n",
        "\n",
        "detA = np.linalg.det(A)\n",
        "Ainv = np.linalg.inv(A)\n",
        "detB = np.linalg.det(B)\n",
        "\n",
        "print(\"Determinent of A = \",detA)\n",
        "print(\"Inverse of A = \",Ainv)\n",
        "print(\"Determinent of B = \",detB)"
      ]
    },
    {
      "cell_type": "code",
      "source": [
        "A = np.array([[3,2],[4,7]])\n",
        "\n",
        "detA = np.linalg.det(A)\n",
        "Ainv = np.linalg.inv(A)\n",
        "\n",
        "print(\"Determinent of A = \",detA)\n",
        "print(\"Inverse of A = \",Ainv)"
      ],
      "metadata": {
        "colab": {
          "base_uri": "https://localhost:8080/"
        },
        "id": "q36wnMh_4EkJ",
        "outputId": "6e4962af-7a67-4bae-e953-f513dd5efe7e"
      },
      "execution_count": 8,
      "outputs": [
        {
          "output_type": "stream",
          "name": "stdout",
          "text": [
            "Determinent of A =  13.0\n",
            "Inverse of A =  [[ 0.53846154 -0.15384615]\n",
            " [-0.30769231  0.23076923]]\n"
          ]
        }
      ]
    },
    {
      "cell_type": "markdown",
      "source": [
        "**Matrix Addition, Subtraction and Multiplication**"
      ],
      "metadata": {
        "id": "O-iUldP77R6_"
      }
    },
    {
      "cell_type": "code",
      "source": [
        "A = np.array([[3,4],[5,6],[7,8]])\n",
        "B = np.array([[1,9],[2,0]])\n",
        "\n",
        "C = np.matmul(A,B)\n",
        "\n",
        "print(C)"
      ],
      "metadata": {
        "colab": {
          "base_uri": "https://localhost:8080/"
        },
        "id": "DKOIqxPc7sHe",
        "outputId": "2db8f903-887d-4912-b755-2b7336ee7915"
      },
      "execution_count": 7,
      "outputs": [
        {
          "output_type": "stream",
          "name": "stdout",
          "text": [
            "[[11 27]\n",
            " [17 45]\n",
            " [23 63]]\n"
          ]
        }
      ]
    },
    {
      "cell_type": "markdown",
      "source": [
        "**Transpose of a matrix**"
      ],
      "metadata": {
        "id": "-05LeOqL_cVU"
      }
    },
    {
      "cell_type": "code",
      "source": [
        "A = np.array([[0,1,2],[1,7,8],[2,8,9]])\n",
        "print(\"Matrix = \",A)\n",
        "\n",
        "A_trp = A.T\n",
        "print(\"Transpose of Matrix = \",A_trp)\n",
        "\n",
        "if (A == A_trp).all():\n",
        "  print(\"Matrix is symmetric\")\n",
        "else:\n",
        "  print(\"Matrix is non symmetric\")"
      ],
      "metadata": {
        "colab": {
          "base_uri": "https://localhost:8080/"
        },
        "id": "YHOlQ8uh8lbX",
        "outputId": "8e554446-1592-4fe1-a192-cd8838dadddc"
      },
      "execution_count": 15,
      "outputs": [
        {
          "output_type": "stream",
          "name": "stdout",
          "text": [
            "Matrix =  [[0 1 2]\n",
            " [1 7 8]\n",
            " [2 8 9]]\n",
            "Transpose of Matrix =  [[0 1 2]\n",
            " [1 7 8]\n",
            " [2 8 9]]\n",
            "Matrix is symmetric\n"
          ]
        }
      ]
    },
    {
      "cell_type": "code",
      "source": [
        "A = np.array([[1,2,3],[4,5,6],[7,8,9]])\n",
        "print(\"Matrix = \",A)\n",
        "\n",
        "A_trp = A.T\n",
        "print(\"Transpose of Matrix = \",A_trp)\n",
        "\n",
        "if (A == A_trp).all():\n",
        "  print(\"Matrix is symmetric\")\n",
        "else:\n",
        "    print(\"Matrix is non symmetric\")"
      ],
      "metadata": {
        "colab": {
          "base_uri": "https://localhost:8080/"
        },
        "id": "3RpKXx6s-sdV",
        "outputId": "503e9a59-a64e-420a-94c6-f5d90cadc4e5"
      },
      "execution_count": 17,
      "outputs": [
        {
          "output_type": "stream",
          "name": "stdout",
          "text": [
            "Matrix =  [[1 2 3]\n",
            " [4 5 6]\n",
            " [7 8 9]]\n",
            "Transpose of Matrix =  [[1 4 7]\n",
            " [2 5 8]\n",
            " [3 6 9]]\n",
            "Matrix is non symmetric\n"
          ]
        }
      ]
    },
    {
      "cell_type": "markdown",
      "source": [
        "**Matrix Manipulation**"
      ],
      "metadata": {
        "id": "IInQ5ybBPoB3"
      }
    },
    {
      "cell_type": "markdown",
      "source": [
        "Solve following system of equations:\n",
        "\n",
        "50 = 10 + 15w1 + 20w2 + 3w3 + 12w4 + 5w3<br>\n",
        "35 = 10 + 12w1 + 25w2 + 2w3 + 10w4 + 8w5<br>\n",
        "65 = 10 + 18w1 + 35w2 + 4w3 + 16w4 + 12w5<br>\n",
        "25 = 10 + 8w1 + 5w2 + 1w3 + 5w4 + 2w5<br>\n",
        "55 = 10 + 16w1 + 4w2 + 3w3 + 14w4 + 4w5<br>\n",
        "25 = 10 + 12w1 + 3w2 + 2w3 + 8w4 + 5w5\n",
        "\n",
        "\n",
        "\n"
      ],
      "metadata": {
        "id": "Jm6ihEoxAc5N"
      }
    },
    {
      "cell_type": "code",
      "source": [
        "x = np.array([[1,15,30,3,12,5],[1,12,25,2,10,8],[1,18,35,4,16,12],[1,8,5,1,5,2],[1,16,4,3,14,4],[1,12,3,2,8,5]])\n",
        "\n",
        "x_inv = np.linalg.inv(x)\n",
        "Y = np.array([[50],[35],[65],[25],[55],[25]])\n",
        "\n",
        "W = np.matmul(x_inv,Y)\n",
        "\n",
        "print(W)"
      ],
      "metadata": {
        "colab": {
          "base_uri": "https://localhost:8080/"
        },
        "id": "GMbVQ5ASAFV0",
        "outputId": "9c8b03eb-41ea-438a-8de7-acc27b446670"
      },
      "execution_count": 20,
      "outputs": [
        {
          "output_type": "stream",
          "name": "stdout",
          "text": [
            "[[ 6.29596977e+01]\n",
            " [-1.37657431e+01]\n",
            " [-5.03778338e-02]\n",
            " [ 3.59193955e+01]\n",
            " [ 7.93450882e+00]\n",
            " [-1.58690176e+00]]\n"
          ]
        }
      ]
    },
    {
      "cell_type": "markdown",
      "source": [
        "**Eigen Values and Eigen Vectors**"
      ],
      "metadata": {
        "id": "xlOiikw1OhnC"
      }
    },
    {
      "cell_type": "code",
      "source": [
        "A = np.array([[3,6],[8,4]])\n",
        "\n",
        "lambdas, vectors = np.linalg.eig(A)\n",
        "\n",
        "print(\"Eigen Values = \",lambdas)\n",
        "print(\"Eigen Vectors = \",vectors)"
      ],
      "metadata": {
        "colab": {
          "base_uri": "https://localhost:8080/"
        },
        "id": "k25M1JErIjti",
        "outputId": "be8cf294-1420-4dcc-d583-9b6f38edc3bc"
      },
      "execution_count": 21,
      "outputs": [
        {
          "output_type": "stream",
          "name": "stdout",
          "text": [
            "Eigen Values =  [-3.44622199 10.44622199]\n",
            "Eigen Vectors =  [[-0.68131786 -0.62743446]\n",
            " [ 0.73198769 -0.77866938]]\n"
          ]
        }
      ]
    },
    {
      "cell_type": "markdown",
      "source": [
        "## **Derivatives**"
      ],
      "metadata": {
        "id": "HWhH3OGsUdpd"
      }
    },
    {
      "cell_type": "markdown",
      "source": [
        "**Derivative of a constant function.**"
      ],
      "metadata": {
        "id": "xz91wZG-UmBE"
      }
    },
    {
      "cell_type": "code",
      "source": [
        "import sympy as sp\n",
        "\n",
        "# (a) f(x) = x**2020 + 3*x**3 - 1\n",
        "\n",
        "x = sp.Symbol('x')\n",
        "fx = x**2020+3*x*x*x-1\n",
        "\n",
        "dfx = sp.diff(fx,x)\n",
        "print(dfx)"
      ],
      "metadata": {
        "colab": {
          "base_uri": "https://localhost:8080/"
        },
        "id": "fBf4mFXPUhTs",
        "outputId": "a97e0f0e-3e07-4ade-9d4d-61a86c1f705d"
      },
      "execution_count": 32,
      "outputs": [
        {
          "output_type": "stream",
          "name": "stdout",
          "text": [
            "2020*x**2019 + 9*x**2\n"
          ]
        }
      ]
    },
    {
      "cell_type": "code",
      "source": [
        "# g(x) = x/(x+1)\n",
        "\n",
        "x = sp.symbols('x')\n",
        "gx = x/(x+1)\n",
        "\n",
        "dfx = sp.simplify(sp.diff(gx,x))\n",
        "print(dfx)"
      ],
      "metadata": {
        "colab": {
          "base_uri": "https://localhost:8080/"
        },
        "id": "x6nPUY81VI7l",
        "outputId": "3f2bf7aa-8989-4fca-e574-7cf5e75c4be8"
      },
      "execution_count": 30,
      "outputs": [
        {
          "output_type": "stream",
          "name": "stdout",
          "text": [
            "(x + 1)**(-2)\n"
          ]
        }
      ]
    }
  ]
}